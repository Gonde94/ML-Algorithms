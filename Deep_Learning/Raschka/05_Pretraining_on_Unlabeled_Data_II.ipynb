{
 "cells": [
  {
   "cell_type": "markdown",
   "metadata": {},
   "source": [
    "### Training an LLM\n",
    "\n",
    "1. Iterate over training epochs (one epoch is a complete pass over a training set).\n",
    "2. Iterate over batches in each training epoch (# of batches = training set size / size of each batch).\n",
    "3. Reset loss gradients from previous batch iteration.\n",
    "4. Calculate loss on current batch.\n",
    "5. Backward pass to calculate loss gradients. \n",
    "6. Update model weights using loss gradients. \n",
    "7. Print training and validation set losses.\n",
    "8. Generate sample text for visual inspection."
   ]
  },
  {
   "cell_type": "code",
   "execution_count": 1,
   "metadata": {},
   "outputs": [],
   "source": [
    "import torch\n",
    "from Chapter04 import GPTModel, create_dataloader_v1, generate_text_simple\n",
    "from Chapter05 import calc_loss_batch, calc_loss_loader, text_to_token_ids, token_ids_to_text, tokeniser\n",
    "\n",
    "GPT_CONFIG_124M = {\n",
    "    \"vocab_size\": 50_257,\n",
    "    \"context_length\": 256, # shortened from 1,024\n",
    "    \"emb_dim\": 768,\n",
    "    \"n_heads\": 12,\n",
    "    \"n_layers\": 12,\n",
    "    \"drop_rate\": 0.1,\n",
    "    \"qkv_bias\": False\n",
    "}\n",
    "\n",
    "torch.manual_seed(123)\n",
    "model = GPTModel(GPT_CONFIG_124M)"
   ]
  },
  {
   "cell_type": "code",
   "execution_count": 2,
   "metadata": {},
   "outputs": [],
   "source": [
    "# Read in short story again\n",
    "file_path = \"the-verdict.txt\"\n",
    "with open(file_path, \"r\", encoding=\"utf-8\") as file:\n",
    "    text_data = file.read()"
   ]
  },
  {
   "cell_type": "code",
   "execution_count": 3,
   "metadata": {},
   "outputs": [],
   "source": [
    "# Split dataset into train/validation sets\n",
    "train_ratio = 0.9\n",
    "split_idx = int(train_ratio * len(text_data))\n",
    "train_data = text_data[:split_idx]\n",
    "test_data = text_data[split_idx:]"
   ]
  },
  {
   "cell_type": "code",
   "execution_count": 4,
   "metadata": {},
   "outputs": [],
   "source": [
    "# Create respective data loaders\n",
    "torch.manual_seed(123)\n",
    "\n",
    "train_loader = create_dataloader_v1(\n",
    "    train_data,\n",
    "    batch_size=2,\n",
    "    max_length=GPT_CONFIG_124M[\"context_length\"],\n",
    "    stride=GPT_CONFIG_124M[\"context_length\"],\n",
    "    drop_last=True,\n",
    "    shuffle=True,\n",
    "    num_workers=0\n",
    ")\n",
    "\n",
    "test_loader = create_dataloader_v1(\n",
    "    test_data,\n",
    "    batch_size=2,\n",
    "    max_length=GPT_CONFIG_124M[\"context_length\"],\n",
    "    stride=GPT_CONFIG_124M[\"context_length\"],\n",
    "    drop_last=False,\n",
    "    shuffle=False,\n",
    "    num_workers=0\n",
    ")"
   ]
  },
  {
   "cell_type": "code",
   "execution_count": 5,
   "metadata": {},
   "outputs": [],
   "source": [
    "# Step 7\n",
    "def evaluate_model(model, train_loader, val_loader, device, eval_iter):\n",
    "    model.eval() # dropout is disabled for stable, reproducible results\n",
    "    with torch.no_grad(): # disables gradient tracking\n",
    "        train_loss = calc_loss_loader(\n",
    "            train_loader, model, device, num_batches=eval_iter\n",
    "        )\n",
    "        val_loss = calc_loss_loader(\n",
    "            val_loader, model, device, num_batches=eval_iter\n",
    "        )\n",
    "    model.train()\n",
    "    return train_loss, val_loss"
   ]
  },
  {
   "cell_type": "code",
   "execution_count": 6,
   "metadata": {},
   "outputs": [],
   "source": [
    "# Step 8\n",
    "def generate_and_print_sample(model, tokeniser, device, start_context):\n",
    "    model.eval()\n",
    "    context_size = model.pos_emb.weight.shape[0]\n",
    "    encoded = text_to_token_ids(start_context, tokeniser).to(device)\n",
    "    with torch.no_grad():\n",
    "        token_ids = generate_text_simple(\n",
    "            model=model, \n",
    "            idx=encoded,\n",
    "            max_new_tokens=50,\n",
    "            context_size=context_size\n",
    "        )\n",
    "    decoded_text = token_ids_to_text(token_ids, tokeniser)\n",
    "    print(decoded_text.replace(\"\\n\", \" \"))\n",
    "    model.train()"
   ]
  },
  {
   "cell_type": "code",
   "execution_count": 7,
   "metadata": {},
   "outputs": [],
   "source": [
    "def train_model_simple(model, train_loader, val_loader,\n",
    "                       optimiser, device, num_epochs,\n",
    "                       eval_freq, eval_iter, start_context, tokeniser):\n",
    "    \n",
    "    train_losses, val_losses, track_tokens_seen = [], [], []\n",
    "    tokens_seen, global_step = 0, -1\n",
    "\n",
    "    # Main training loop\n",
    "    for epoch in range(num_epochs): # step 1\n",
    "        model.train()\n",
    "        for input_batch, target_batch in train_loader: # step 2\n",
    "            optimiser.zero_grad() # step 3\n",
    "            loss = calc_loss_batch( # step 4\n",
    "                input_batch, target_batch, model, device\n",
    "            )\n",
    "            loss.backward() # step 5\n",
    "            optimiser.step() # step 6\n",
    "            tokens_seen += input_batch.numel()\n",
    "            global_step += 1\n",
    "\n",
    "            if global_step % eval_freq == 0: # step 7\n",
    "                train_loss, val_loss = evaluate_model(\n",
    "                    model, train_loader, val_loader, device, eval_iter\n",
    "                )\n",
    "                train_losses.append(train_loss)\n",
    "                val_losses.append(val_loss)\n",
    "                track_tokens_seen.append(tokens_seen)\n",
    "                print(f\"Epoch {epoch+1} (Step {global_step:06d}): \"\n",
    "                      f\"Train loss {train_loss:.3f}, \"\n",
    "                      f\"Val loss {val_loss:.3f}\"\n",
    "                )\n",
    "\n",
    "        generate_and_print_sample( # step 8\n",
    "            model, tokeniser, device, start_context\n",
    "        )\n",
    "    return train_losses, val_losses, track_tokens_seen\n"
   ]
  },
  {
   "cell_type": "code",
   "execution_count": 8,
   "metadata": {},
   "outputs": [
    {
     "name": "stdout",
     "output_type": "stream",
     "text": [
      "Epoch 1 (Step 000000): Train loss 9.840, Val loss 10.090\n",
      "Epoch 1 (Step 000005): Train loss 8.254, Val loss 8.252\n",
      "Every effort moves you,,,,,,,,,,,,,,,,,,,,,,,,,,,,, the,,,,,,,,,,,,,,,,,,,,\n",
      "Epoch 2 (Step 000010): Train loss 6.723, Val loss 7.038\n",
      "Epoch 2 (Step 000015): Train loss 6.107, Val loss 6.575\n",
      "Every effort moves you, the, the, the, the, the, the, the.                                   \n",
      "Epoch 3 (Step 000020): Train loss 5.534, Val loss 6.434\n",
      "Epoch 3 (Step 000025): Train loss 5.581, Val loss 6.437\n",
      "Every effort moves you, and and, and a a . . . a a a of the and a, and a, and, and, and, and, and, and the of the of the of the of the of the and a, and, and,\n",
      "Epoch 4 (Step 000030): Train loss 5.100, Val loss 6.477\n",
      "Epoch 4 (Step 000035): Train loss 4.914, Val loss 6.452\n",
      "Every effort moves you in the picture. Gisburn's't to me to a me. Gisburn was no's--I\"I had been to me to me to me his pictures he had been his painting his a _ a to me to me to me\n",
      "Epoch 5 (Step 000040): Train loss 4.696, Val loss 6.625\n",
      "Every effort moves you know the to the picture.                              \"-- his I said a, and I said, I said,\n",
      "Epoch 6 (Step 000045): Train loss 4.019, Val loss 6.153\n",
      "Epoch 6 (Step 000050): Train loss 3.630, Val loss 6.146\n",
      "Every effort moves you know the inevitable garlanded frame. The--and it. Gisburn's it was no I had been me to have to see it the Riviera, and he had been the picture--as of the picture to the Riv he had been\n",
      "Epoch 7 (Step 000055): Train loss 3.043, Val loss 6.132\n",
      "Epoch 7 (Step 000060): Train loss 2.368, Val loss 6.149\n",
      "Every effort moves you know he was not that I felt--I had the fact with a little a little to my work, and!  \" to see a little of the his glory, I had dropped his painting, the picture and--because he was a little\n",
      "Epoch 8 (Step 000065): Train loss 2.116, Val loss 6.183\n",
      "Epoch 8 (Step 000070): Train loss 1.923, Val loss 6.171\n",
      "Every effort moves you know.\"    I glanced after him, and I have been I had always--and a year after, I had to see a smile, and I had been the donkey--as I had the fact, and I had been the first\n",
      "Epoch 9 (Step 000075): Train loss 1.473, Val loss 6.187\n",
      "Epoch 9 (Step 000080): Train loss 0.959, Val loss 6.274\n",
      "Every effort moves you know,\" was one of the axioms he had been the frame called up all Gisburn's past!             \"Oh, I saw that, and down the room, I had\n",
      "Epoch 10 (Step 000085): Train loss 0.802, Val loss 6.279\n",
      "Every effort moves you know,\" was one of the picture for nothing--I told Mrs.  \"Once, when I looked up, I felt to see a smile behind his close grayish beard--as if he had the donkey. \"There were days when I\n"
     ]
    }
   ],
   "source": [
    "device = torch.device(\"cuda\" if torch.cuda.is_available() else \"cpu\")\n",
    "model.to(device)\n",
    "optimiser = torch.optim.AdamW(\n",
    "    model.parameters(), # return all trainable weight parameters of the model\n",
    "    lr=0.0004,\n",
    "    weight_decay=0.1\n",
    ")\n",
    "num_epochs = 10\n",
    "train_losses, val_losses, tokens_seen = train_model_simple(\n",
    "    model, train_loader, test_loader, optimiser, device,\n",
    "    num_epochs=num_epochs, eval_freq=5, eval_iter=5,\n",
    "    start_context=\"Every effort moves you\", tokeniser=tokeniser\n",
    ")"
   ]
  },
  {
   "cell_type": "code",
   "execution_count": 9,
   "metadata": {},
   "outputs": [
    {
     "data": {
      "image/png": "[encoded data removed]",
      "text/plain": [
       "<Figure size 500x300 with 2 Axes>"
      ]
     },
     "metadata": {},
     "output_type": "display_data"
    }
   ],
   "source": [
    "import matplotlib.pyplot as plt\n",
    "from matplotlib.ticker import MaxNLocator\n",
    "\n",
    "def plot_losses(epochs_seen, tokens_seen, train_losses, val_losses):\n",
    "    fig, ax1 = plt.subplots(figsize=(5, 3))\n",
    "    ax1.plot(epochs_seen, train_losses, label=\"Training loss\")\n",
    "    ax1.plot(epochs_seen, val_losses, linestyle=\"-.\", label=\"Valdation loss\")\n",
    "    ax1.set_xlabel(\"Epochs\")\n",
    "    ax1.set_ylabel(\"Loss\")\n",
    "    ax1.legend(loc=\"upper right\")\n",
    "    ax1.xaxis.set_major_locator(MaxNLocator(integer=True))\n",
    "    ax2 = ax1.twiny()\n",
    "    ax2.plot(tokens_seen, train_losses, alpha=0)\n",
    "    ax2.set_xlabel(\"Tokens seen\")\n",
    "    fig.tight_layout()\n",
    "    plt.show\n",
    "\n",
    "epochs_tensor = torch.linspace(0, num_epochs, len(train_losses))\n",
    "plot_losses(epochs_tensor, tokens_seen, train_losses, val_losses)"
   ]
  }
 ],
 "metadata": {
  "kernelspec": {
   "display_name": ".venv",
   "language": "python",
   "name": "python3"
  },
  "language_info": {
   "codemirror_mode": {
    "name": "ipython",
    "version": 3
   },
   "file_extension": ".py",
   "mimetype": "text/x-python",
   "name": "python",
   "nbconvert_exporter": "python",
   "pygments_lexer": "ipython3",
   "version": "3.12.8"
  }
 },
 "nbformat": 4,
 "nbformat_minor": 2
}
