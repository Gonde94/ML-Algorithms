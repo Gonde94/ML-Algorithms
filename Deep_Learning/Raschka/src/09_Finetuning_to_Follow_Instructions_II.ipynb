{
 "cells": [
  {
   "cell_type": "markdown",
   "metadata": {},
   "source": [
    "### Loading a pretrained LLM\n",
    "\n",
    "We must load a pretrained GPT model that we want to fine-tune. This time, we will load the medium-sized model with 355 million parameters. The smaller model would be too limited in capacity to achieve satisfactory results via instruction fine-tuning. Smaller models lack the capacity to learn and retain the intricate patterns and nuanced behaviours for instruction-following tasks. "
   ]
  },
  {
   "cell_type": "code",
   "execution_count": 1,
   "metadata": {},
   "outputs": [
    {
     "name": "stdout",
     "output_type": "stream",
     "text": [
      "File already exists and is up-to-date: gpt2\\355M\\checkpoint\n",
      "File already exists and is up-to-date: gpt2\\355M\\encoder.json\n",
      "File already exists and is up-to-date: gpt2\\355M\\hparams.json\n",
      "File already exists and is up-to-date: gpt2\\355M\\model.ckpt.data-00000-of-00001\n",
      "File already exists and is up-to-date: gpt2\\355M\\model.ckpt.index\n",
      "File already exists and is up-to-date: gpt2\\355M\\model.ckpt.meta\n",
      "File already exists and is up-to-date: gpt2\\355M\\vocab.bpe\n"
     ]
    }
   ],
   "source": [
    "from gpt_download import download_and_load_gpt2\n",
    "from Chapter04 import GPTModel\n",
    "from Chapter05 import load_weights_into_gpt\n",
    "\n",
    "BASE_CONFIG = {\n",
    "    \"vocab_size\": 50_257,\n",
    "    \"context_length\": 1024,\n",
    "    \"drop_rate\": 0.0,\n",
    "    \"qkv_bias\": True\n",
    "}\n",
    "\n",
    "model_configs = {\n",
    "    \"gpt2-small (124M)\": {\"emb_dim\": 768, \"n_layers\": 12, \"n_heads\": 12},\n",
    "    \"gpt2-medium (355M)\": {\"emb_dim\": 1024, \"n_layers\": 24, \"n_heads\": 16},\n",
    "    \"gpt2-large (774M)\": {\"emb_dim\": 1280, \"n_layers\": 36, \"n_heads\": 20},\n",
    "    \"gpt2-xl (1558M)\": {\"emb_dim\": 1600, \"n_layers\": 48, \"n_heads\": 25},\n",
    "}\n",
    "\n",
    "CHOOSE_MODEL = \"gpt2-medium (355M)\"\n",
    "BASE_CONFIG.update(model_configs[CHOOSE_MODEL])\n",
    "\n",
    "model_size = CHOOSE_MODEL.split(\" \")[-1].lstrip(\"(\").rstrip(\")\")\n",
    "\n",
    "settings, params = download_and_load_gpt2(\n",
    "    model_size=model_size,\n",
    "    models_dir=\"gpt2\"\n",
    ")\n",
    "\n",
    "model = GPTModel(BASE_CONFIG)\n",
    "load_weights_into_gpt(model, params)\n",
    "model.eval();"
   ]
  },
  {
   "cell_type": "markdown",
   "metadata": {},
   "source": [
    "Let's quickly assess this model's performance on one of the validation tasks by comparing it's output to the expected response. This will give us an idea of the model's performance before fine-tuning, and help us appreciate the effect of fine-tuning later on."
   ]
  },
  {
   "cell_type": "code",
   "execution_count": 2,
   "metadata": {},
   "outputs": [
    {
     "name": "stdout",
     "output_type": "stream",
     "text": [
      "Training set length: 935\n",
      "Validation set length: 55\n",
      "Test set length: 110\n"
     ]
    }
   ],
   "source": [
    "from Chapter07 import (\n",
    "    format_input, train_data, val_data, test_data\n",
    ")\n",
    "\n",
    "print(\"Training set length:\", len(train_data))\n",
    "print(\"Validation set length:\", len(val_data))\n",
    "print(\"Test set length:\", len(test_data))"
   ]
  },
  {
   "cell_type": "code",
   "execution_count": 3,
   "metadata": {},
   "outputs": [
    {
     "name": "stdout",
     "output_type": "stream",
     "text": [
      "Below is an instruction that describes a task. Write a response that appropriately completes the request.\n",
      "\n",
      "### Instruction:\n",
      "Convert the active sentence to passive: 'The chef cooks the meal every day.'\n"
     ]
    }
   ],
   "source": [
    "import torch\n",
    "\n",
    "torch.manual_seed(123)\n",
    "input_text = format_input(val_data[0])\n",
    "print(input_text)"
   ]
  },
  {
   "cell_type": "code",
   "execution_count": 4,
   "metadata": {},
   "outputs": [],
   "source": [
    "from Chapter05 import generate, text_to_token_ids, token_ids_to_text, tokeniser\n",
    "\n",
    "token_ids = generate(\n",
    "    model=model,\n",
    "    idx=text_to_token_ids(input_text, tokeniser),\n",
    "    max_new_tokens=35,\n",
    "    context_size=BASE_CONFIG[\"context_length\"],\n",
    "    eos_id=50_256\n",
    ")\n",
    "generated_text = token_ids_to_text(token_ids, tokeniser)"
   ]
  },
  {
   "cell_type": "markdown",
   "metadata": {},
   "source": [
    "The generate function returns the combined input and output text, which was convenient for text-completion. However, when evaluating a model's performance on a specific task, we want to focus solely on the model's generated response. To isolate this, we need to subtract the length of the input instruction from the start of the generated text."
   ]
  },
  {
   "cell_type": "code",
   "execution_count": 5,
   "metadata": {},
   "outputs": [
    {
     "name": "stdout",
     "output_type": "stream",
     "text": [
      "Below is an instruction that describes a task. Write a response that appropriately completes the request.\n",
      "\n",
      "### Instruction:\n",
      "Convert the active sentence to passive: 'The chef cooks the meal every day.'\n",
      "\n",
      "\"I'm not a fan of the American people's love of the United States of America, but I'm not a fan of the United States of America.\n",
      "\n"
     ]
    }
   ],
   "source": [
    "# Without stripping\n",
    "print(generated_text)"
   ]
  },
  {
   "cell_type": "code",
   "execution_count": 6,
   "metadata": {},
   "outputs": [
    {
     "name": "stdout",
     "output_type": "stream",
     "text": [
      "\"I'm not a fan of the American people's love of the United States of America, but I'm not a fan of the United States of America.\n"
     ]
    }
   ],
   "source": [
    "# With stripping text\n",
    "response_text = generated_text[len(input_text):].strip()\n",
    "print(response_text)"
   ]
  },
  {
   "cell_type": "markdown",
   "metadata": {},
   "source": [
    "### Fine-tuning the LLM on instruction data"
   ]
  },
  {
   "cell_type": "code",
   "execution_count": 7,
   "metadata": {},
   "outputs": [
    {
     "name": "stdout",
     "output_type": "stream",
     "text": [
      "Training loss: 5.437087345123291\n",
      "Validation loss: 5.363913440704346\n"
     ]
    }
   ],
   "source": [
    "from Chapter05 import (\n",
    "    calc_loss_loader,\n",
    "    train_model_simple\n",
    ")\n",
    "from Chapter07 import (\n",
    "    device, train_loader, val_loader, test_loader\n",
    ")\n",
    "\n",
    "model.to(device)\n",
    "torch.manual_seed(123)\n",
    "\n",
    "# Initial loss before training\n",
    "with torch.no_grad():\n",
    "    train_loss = calc_loss_loader(\n",
    "        train_loader, model, device, num_batches=5\n",
    "    )\n",
    "    val_loss = calc_loss_loader(\n",
    "        val_loader, model, device, num_batches=5\n",
    ")\n",
    "\n",
    "print(\"Training loss:\", train_loss)\n",
    "print(\"Validation loss:\", val_loss)"
   ]
  },
  {
   "cell_type": "code",
   "execution_count": 8,
   "metadata": {},
   "outputs": [
    {
     "name": "stdout",
     "output_type": "stream",
     "text": [
      "Epoch 1 (Step 000000): Train loss 4.451, Val loss 4.433\n",
      "Epoch 1 (Step 000005): Train loss 1.601, Val loss 1.489\n",
      "Epoch 1 (Step 000010): Train loss 1.051, Val loss 1.138\n",
      "Epoch 1 (Step 000015): Train loss 0.982, Val loss 1.026\n",
      "Epoch 1 (Step 000020): Train loss 0.860, Val loss 0.970\n",
      "Epoch 1 (Step 000025): Train loss 0.828, Val loss 0.926\n",
      "Epoch 1 (Step 000030): Train loss 0.854, Val loss 0.900\n",
      "Epoch 1 (Step 000035): Train loss 0.773, Val loss 0.869\n",
      "Epoch 1 (Step 000040): Train loss 0.720, Val loss 0.850\n",
      "Epoch 1 (Step 000045): Train loss 0.670, Val loss 0.837\n",
      "Epoch 1 (Step 000050): Train loss 0.719, Val loss 0.827\n",
      "Epoch 1 (Step 000055): Train loss 0.792, Val loss 0.812\n",
      "Epoch 1 (Step 000060): Train loss 0.750, Val loss 0.788\n",
      "Epoch 1 (Step 000065): Train loss 0.672, Val loss 0.769\n",
      "Epoch 1 (Step 000070): Train loss 0.579, Val loss 0.761\n",
      "Epoch 1 (Step 000075): Train loss 0.592, Val loss 0.758\n",
      "Epoch 1 (Step 000080): Train loss 0.642, Val loss 0.752\n",
      "Epoch 1 (Step 000085): Train loss 0.541, Val loss 0.738\n",
      "Epoch 1 (Step 000090): Train loss 0.591, Val loss 0.725\n",
      "Epoch 1 (Step 000095): Train loss 0.529, Val loss 0.716\n",
      "Epoch 1 (Step 000100): Train loss 0.532, Val loss 0.707\n",
      "Epoch 1 (Step 000105): Train loss 0.582, Val loss 0.703\n",
      "Epoch 1 (Step 000110): Train loss 0.593, Val loss 0.700\n",
      "Epoch 1 (Step 000115): Train loss 0.536, Val loss 0.690\n",
      "Below is an instruction that describes a task. Write a response that appropriately completes the request.  ### Instruction: Convert the active sentence to passive: 'The chef cooks the meal every day.'  ### Response: The chef cooks the meal every day.<|endoftext|>The following is an instruction that describes a task. Write a response that appropriately completes the request.  ### Input: The chef cooks the meal every day.  \n",
      "Epoch 2 (Step 000120): Train loss 0.462, Val loss 0.697\n",
      "Epoch 2 (Step 000125): Train loss 0.466, Val loss 0.716\n",
      "Epoch 2 (Step 000130): Train loss 0.465, Val loss 0.717\n",
      "Epoch 2 (Step 000135): Train loss 0.428, Val loss 0.715\n",
      "Epoch 2 (Step 000140): Train loss 0.427, Val loss 0.702\n",
      "Epoch 2 (Step 000145): Train loss 0.380, Val loss 0.697\n",
      "Epoch 2 (Step 000150): Train loss 0.396, Val loss 0.691\n",
      "Epoch 2 (Step 000155): Train loss 0.437, Val loss 0.691\n",
      "Epoch 2 (Step 000160): Train loss 0.423, Val loss 0.695\n",
      "Epoch 2 (Step 000165): Train loss 0.395, Val loss 0.707\n",
      "Epoch 2 (Step 000170): Train loss 0.336, Val loss 0.709\n",
      "Epoch 2 (Step 000175): Train loss 0.356, Val loss 0.699\n",
      "Epoch 2 (Step 000180): Train loss 0.408, Val loss 0.682\n",
      "Epoch 2 (Step 000185): Train loss 0.422, Val loss 0.682\n",
      "Epoch 2 (Step 000190): Train loss 0.346, Val loss 0.674\n",
      "Epoch 2 (Step 000195): Train loss 0.351, Val loss 0.657\n",
      "Epoch 2 (Step 000200): Train loss 0.317, Val loss 0.652\n",
      "Epoch 2 (Step 000205): Train loss 0.362, Val loss 0.645\n",
      "Epoch 2 (Step 000210): Train loss 0.383, Val loss 0.644\n",
      "Epoch 2 (Step 000215): Train loss 0.414, Val loss 0.650\n",
      "Epoch 2 (Step 000220): Train loss 0.298, Val loss 0.659\n",
      "Epoch 2 (Step 000225): Train loss 0.345, Val loss 0.666\n",
      "Epoch 2 (Step 000230): Train loss 0.300, Val loss 0.669\n",
      "Below is an instruction that describes a task. Write a response that appropriately completes the request.  ### Instruction: Convert the active sentence to passive: 'The chef cooks the meal every day.'  ### Response: The meal is cooked every day by the chef.<|endoftext|>The following is an instruction that describes a task. Write a response that appropriately completes the request.  ### Input: What is the capital of the United Kingdom\n",
      "Training completed in 42.06 minutes.\n"
     ]
    }
   ],
   "source": [
    "# Train the model\n",
    "import time\n",
    "\n",
    "start_time = time.time()\n",
    "torch.manual_seed(123)\n",
    "optimiser = torch.optim.AdamW(\n",
    "    model.parameters(), lr=0.00005, weight_decay=0.1\n",
    ")\n",
    "num_epochs = 2\n",
    "\n",
    "train_losses, val_losses, tokens_seen = train_model_simple(\n",
    "    model, train_loader, val_loader, optimiser, device,\n",
    "    num_epochs=num_epochs, eval_freq=5, eval_iter=5,\n",
    "    start_context=format_input(val_data[0]), tokeniser=tokeniser\n",
    ")\n",
    "\n",
    "end_time = time.time()\n",
    "execution_time_mins = (end_time - start_time) / 60\n",
    "print(f\"Training completed in {execution_time_mins:.2f} minutes.\")"
   ]
  },
  {
   "cell_type": "markdown",
   "metadata": {},
   "source": [
    "Without a GPU, this takes 42 minutes. With a GPU, it took Raschka's model less than a minute to train. \n",
    "\n",
    "According to the output, the model is learning effectively - the training and validation loss values decrease over time, which suggests that the model is gradually improving its ability to understand and follow the provided instructions. Perhaps even one epoch would have been enough as the validation loss plateaued after the first epoch. \n",
    "\n",
    "After the first epoch, it would appear that the model isn't learning but after the second epoch it correctly converts the active sentence to the passive voice. The plot below shows that the model is training effectively. "
   ]
  },
  {
   "cell_type": "code",
   "execution_count": null,
   "metadata": {},
   "outputs": [
    {
     "data": {
      "image/png": "[encoded data removed]",
      "text/plain": [
       "<Figure size 500x300 with 2 Axes>"
      ]
     },
     "metadata": {},
     "output_type": "display_data"
    }
   ],
   "source": [
    "from Chapter05 import plot_losses\n",
    "epochs_tensor = torch.linspace(0, num_epochs, len(train_losses))\n",
    "plot_losses(epochs_tensor, tokens_seen, train_losses, val_losses)"
   ]
  },
  {
   "cell_type": "markdown",
   "metadata": {},
   "source": [
    "#### Extracting and saving responses\n",
    "\n",
    "The most crucial aspect is the model's performance in terms of response quality and correctness. Let's extract the responses and store them in a format that allows us to evaluate and quantify the response quality."
   ]
  },
  {
   "cell_type": "code",
   "execution_count": 16,
   "metadata": {},
   "outputs": [
    {
     "name": "stdout",
     "output_type": "stream",
     "text": [
      "Below is an instruction that describes a task. Write a response that appropriately completes the request.\n",
      "\n",
      "### Instruction:\n",
      "Name the author of 'Pride and Prejudice'.\n",
      "\n",
      "Correct response:\n",
      ">> Jane Austen.\n",
      "\n",
      "Model response:\n",
      ">> The author of 'Pride and Prejudice' is Jane Austen.\n",
      "--------------------------------------\n"
     ]
    }
   ],
   "source": [
    "torch.manual_seed(123)\n",
    "\n",
    "# First 3 entries\n",
    "for entry in test_data[:3]:\n",
    "    input_text = format_input(entry)\n",
    "    token_ids = generate(\n",
    "        model=model,\n",
    "        idx=text_to_token_ids(input_text, tokeniser).to(device),\n",
    "        max_new_tokens=256,\n",
    "        context_size=BASE_CONFIG[\"context_length\"],\n",
    "        eos_id=50_256\n",
    "    )\n",
    "generated_text = token_ids_to_text(token_ids, tokeniser)#\n",
    "\n",
    "response_text = (\n",
    "    generated_text[len(input_text):]\n",
    "    .replace(\"### Response:\", \"\")\n",
    "    .strip()\n",
    ")\n",
    "print(input_text)\n",
    "print(f\"\\nCorrect response:\\n>> {entry['output']}\")\n",
    "print(f\"\\nModel response:\\n>> {response_text.strip()}\")\n",
    "print(\"--------------------------------------\")"
   ]
  },
  {
   "cell_type": "markdown",
   "metadata": {},
   "source": [
    "#### Save the model"
   ]
  },
  {
   "cell_type": "code",
   "execution_count": 17,
   "metadata": {},
   "outputs": [
    {
     "name": "stdout",
     "output_type": "stream",
     "text": [
      "Model saved as gpt2-medium355M-sft.pth\n"
     ]
    }
   ],
   "source": [
    "import re\n",
    "\n",
    "file_name = f\"{re.sub(f'[ ()]', '', CHOOSE_MODEL) }-sft.pth\"\n",
    "torch.save(model.state_dict(), file_name)\n",
    "print(f\"Model saved as {file_name}\")"
   ]
  }
 ],
 "metadata": {
  "kernelspec": {
   "display_name": ".venv",
   "language": "python",
   "name": "python3"
  },
  "language_info": {
   "codemirror_mode": {
    "name": "ipython",
    "version": 3
   },
   "file_extension": ".py",
   "mimetype": "text/x-python",
   "name": "python",
   "nbconvert_exporter": "python",
   "pygments_lexer": "ipython3",
   "version": "3.12.8"
  }
 },
 "nbformat": 4,
 "nbformat_minor": 2
}
