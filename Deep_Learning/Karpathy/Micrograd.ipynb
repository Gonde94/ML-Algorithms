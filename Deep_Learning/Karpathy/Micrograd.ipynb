{
 "cells": [
  {
   "attachments": {},
   "cell_type": "markdown",
   "metadata": {},
   "source": [
    "### Micrograd\n",
    "\n",
    "A tutorial by Andrej Karpathy: https://www.youtube.com/watch?v=VMj-3S1tku0&t=938s\n",
    "\n",
    "<u>Overview</u>: Micrograd is a library built by Karpathy to illustrate backpropagation. It operates only over scalar values, so a neuron is looked at from its individual tiny additions and multiplications. I'm going to follow this tutorial from start to finish in order to gain a better understanding of Autograd and backpropagation.\n",
    "\n",
    "Karpathy believes that Micrograd is all you need in order to train neural networks. Everything else found in big libraries is just for efficiency purposes. "
   ]
  },
  {
   "cell_type": "code",
   "execution_count": 1,
   "metadata": {},
   "outputs": [],
   "source": [
    "from micrograd.engine import Value"
   ]
  },
  {
   "cell_type": "code",
   "execution_count": 2,
   "metadata": {},
   "outputs": [],
   "source": [
    "# Micrograd contains a \"Value\" object, which wraps around floats\n",
    "a = Value(-4.0)\n",
    "b = Value(2.0)\n",
    "\n",
    "# A bunch of simple mathematical expressions to highlight Micrograd's functionality \n",
    "c = a + b\n",
    "d = a * b + b**3\n",
    "c += c + 1\n",
    "c += 1 + c + (-a)\n",
    "d += d * 2 + (b + a).relu()\n",
    "d += 3 * d + (b - a).relu()\n",
    "\n",
    "e = c - d\n",
    "f = e**2\n",
    "g = f / 2.0\n",
    "g += 10.0 / f"
   ]
  },
  {
   "cell_type": "code",
   "execution_count": 3,
   "metadata": {},
   "outputs": [
    {
     "name": "stdout",
     "output_type": "stream",
     "text": [
      "24.7041\n",
      "138.8338\n",
      "645.5773\n"
     ]
    }
   ],
   "source": [
    "# Outcome of forward pass - 24.70\n",
    "print(f'{g.data:.4f}')\n",
    "\n",
    "# We can also initialise backpropagation, in this case at the node g. \n",
    "g.backward()\n",
    "\n",
    "# Numerical value of dg/da - 138.83\n",
    "print(f'{a.grad:.4f}')\n",
    "\n",
    "# Numerical value of dg/db - 645.58\n",
    "print(f'{b.grad:.4f}')"
   ]
  },
  {
   "attachments": {},
   "cell_type": "markdown",
   "metadata": {},
   "source": [
    "#### Backpropagation\n",
    "\n",
    "Going back through the graph/network and applying the chain rule to evaluate the derivative of the final node, with respect to all the internal nodes (weights) and inputs. This tells us how the nodes/weights and inputs are affecting the final node, i.e. how a and b are affecting g (through the mathematical expression of the neural network).\n",
    "\n",
    "I.e. above, if we nudge a ever so slightly (making it larger), g will grow by 138.83. Similarly the slope for b will be 645.58. This is how g will respond if a and b are tweaked a tiny amount, in a positive direction.\n",
    "\n",
    "Neural networks are just mathematical expressions. They take the input data, along with the weights of the network, pass them through some kind of mathematical expression, and the output are your network's predictions or the loss function. \n",
    "\n",
    "We're just manipulating scalars here. For actual networks, we would be manipulating n-dimensional tensors - but the math remains the same. Tensors are just arrays of scalars. The operations stay the same; the reason we put them in tensors is that it is computationally more efficient (takes advantage of parrarelisation). "
   ]
  },
  {
   "attachments": {},
   "cell_type": "markdown",
   "metadata": {},
   "source": [
    "#### Micrograd from scratch"
   ]
  },
  {
   "cell_type": "code",
   "execution_count": 7,
   "metadata": {},
   "outputs": [],
   "source": [
    "import pandas as pd\n",
    "import numpy as np\n",
    "import matplotlib.pyplot as plt\n",
    "%matplotlib inline"
   ]
  },
  {
   "cell_type": "code",
   "execution_count": 7,
   "metadata": {},
   "outputs": [],
   "source": [
    "# A random function\n",
    "def f(x):\n",
    "    return 3*x**2 - 4*x + 5"
   ]
  },
  {
   "cell_type": "code",
   "execution_count": 8,
   "metadata": {},
   "outputs": [
    {
     "data": {
      "text/plain": [
       "20.0"
      ]
     },
     "execution_count": 8,
     "metadata": {},
     "output_type": "execute_result"
    }
   ],
   "source": [
    "f(3.0) # prints 20"
   ]
  },
  {
   "cell_type": "code",
   "execution_count": 14,
   "metadata": {},
   "outputs": [
    {
     "data": {
      "text/plain": [
       "[<matplotlib.lines.Line2D at 0x7f74f0c3c3a0>]"
      ]
     },
     "execution_count": 14,
     "metadata": {},
     "output_type": "execute_result"
    },
    {
     "data": {
      "image/png": "[encoded data removed]",
      "text/plain": [
       "<Figure size 500x300 with 1 Axes>"
      ]
     },
     "metadata": {},
     "output_type": "display_data"
    }
   ],
   "source": [
    "xs = np.arange(-5, 5, 0.25) # an array from -5 to 5 in steps of 0.25\n",
    "ys = f(xs) # function called on the array\n",
    "\n",
    "# Plot\n",
    "plt.figure(figsize=(5, 3))\n",
    "plt.plot(xs, ys)"
   ]
  },
  {
   "attachments": {},
   "cell_type": "markdown",
   "metadata": {},
   "source": [
    "#### Understanding the derivative\n",
    "\n",
    "You are at point x. If you increase it by a tiny value, h - how does the function respond? What is the slope in a small step in a given direction. \n",
    "\n",
    "Just looking at the graph above, if we are at x = 3 and add a small number, we expect the function to increase."
   ]
  },
  {
   "cell_type": "code",
   "execution_count": 16,
   "metadata": {},
   "outputs": [
    {
     "name": "stdout",
     "output_type": "stream",
     "text": [
      "The function's response to adding h:  20.014003000000002\n",
      "The slope of the function at x = 3:  14.00300000000243\n"
     ]
    }
   ],
   "source": [
    "# We can try this numerically\n",
    "h = 0.001\n",
    "x = 3.0\n",
    "\n",
    "print(\"The function's response to adding h: \", f(x + h)) # prints 20.014\n",
    "print(\"The slope of the function at x = 3: \", (f(x + h) - f(x)) / h) # 14.00\n"
   ]
  },
  {
   "attachments": {},
   "cell_type": "markdown",
   "metadata": {},
   "source": [
    "This slope is just a numerical approximation of the true slope. We have to make h very small in order to converge to the true slope.\n",
    "\n",
    "It even makes sense if we derive the function ourselves:\n",
    "3x^2 - 4x + 5 --> 6x - 4. At x = 3, dy/dx = 14. "
   ]
  },
  {
   "cell_type": "code",
   "execution_count": 18,
   "metadata": {},
   "outputs": [
    {
     "name": "stdout",
     "output_type": "stream",
     "text": [
      "3.0000002482211127e-05\n"
     ]
    }
   ],
   "source": [
    "# At some point, this derivative is 0\n",
    "\n",
    "h = 0.00001\n",
    "x = 2/3\n",
    "print((f(x + h) - f(x)) / h)\n",
    "\n",
    "# And looking at the graph, the function likely indeed bottoms out at y = 3 and x = 2/3. "
   ]
  },
  {
   "cell_type": "code",
   "execution_count": 19,
   "metadata": {},
   "outputs": [
    {
     "data": {
      "text/plain": [
       "4.0"
      ]
     },
     "execution_count": 19,
     "metadata": {},
     "output_type": "execute_result"
    }
   ],
   "source": [
    "# A slightly more complex example\n",
    "a = 2.0\n",
    "b = -3.0\n",
    "c = 10.0\n",
    "\n",
    "d = a*b + c\n",
    "d # 4.0"
   ]
  },
  {
   "attachments": {},
   "cell_type": "markdown",
   "metadata": {},
   "source": [
    "What is the derivative of d with respects to a, b, and c? What does this tell us?"
   ]
  },
  {
   "cell_type": "code",
   "execution_count": 20,
   "metadata": {},
   "outputs": [
    {
     "name": "stdout",
     "output_type": "stream",
     "text": [
      "d1:  4.0\n",
      "d2:  3.999699999999999\n",
      "Slope:  -3.000000000010772\n"
     ]
    }
   ],
   "source": [
    "h = 0.0001\n",
    "\n",
    "# inputs - the points where we evaluate d with respect to a,b,c\n",
    "a = 2.0\n",
    "b = -3.0\n",
    "c = 10.0\n",
    "\n",
    "# With respect to a\n",
    "d1 = a*b + c\n",
    "a += h\n",
    "d2 = a*b + c\n",
    "print(\"d1: \", d1) # 4.0\n",
    "print(\"d2: \", d2) # 3.99\n",
    "\n",
    "# d2 - d1 is how much the function increases. This is then normalised by h to get the slope\n",
    "print(\"Slope: \", (d2 - d1) / h) # -3.0\n",
    "\n"
   ]
  },
  {
   "attachments": {},
   "cell_type": "markdown",
   "metadata": {},
   "source": [
    "Why does it decrease? A is slightly more positive. Since a is multiplied with a negative number, we actually get more of a negative number. So the slope decreases.\n",
    "\n",
    "Numerically makes sense: d = a*b + c --> dd/da = b = -3.0.\n",
    "\n",
    "We can also calculate the slope of d with respect to a and c, but will skip the details. dd/db = a = 2.0. dd/dc = 1."
   ]
  },
  {
   "attachments": {},
   "cell_type": "markdown",
   "metadata": {},
   "source": [
    "#### Value\n",
    "\n",
    "Neural networks are massive expressions. We need data structures that contain these data structures. This is what the Value object will do.\n",
    "\n",
    "We need to keep pointers about what values produce what other values. \n",
    "- This is where the _children argument comes in. \n",
    "- _op is added to keep track of the operation between the children nodes that result in the Value object.\n",
    "- grad maintains the gradient with respect to whatever node we're on. 0 means no effect (since this is not changing the loss function). At initialisation we assume that the weights do not impact the output. "
   ]
  },
  {
   "cell_type": "code",
   "execution_count": 4,
   "metadata": {},
   "outputs": [],
   "source": [
    "class Value:\n",
    "\n",
    "    def __init__(self, data, _children=(), _op='', label=''):\n",
    "        self.data = data\n",
    "        self.grad = 0.0\n",
    "        self._backward = lambda: None\n",
    "        self._prev = set(_children) # In a set for efficiency (?)\n",
    "        self._op = _op\n",
    "        self.label = label\n",
    "\n",
    "    # This is in order to return a nice string rather than the location of object in memory\n",
    "    def __repr__(self):\n",
    "        return f\"Value(data={self.data})\"\n",
    "    \n",
    "    # In order to add 2 Value objects together\n",
    "    def __add__(self, other): \n",
    "        out = Value(self.data + other.data, (self, other), '+')\n",
    "\n",
    "        def _backward():\n",
    "            self.grad = 1.0 * out.grad\n",
    "            other.grad = 1.0 * out.grad \n",
    "        out._backward = _backward\n",
    "\n",
    "        return out\n",
    "    \n",
    "    # In order to multiply 2 Value objects together\n",
    "    def __mul__(self, other):\n",
    "        out = Value(self.data * other.data, (self, other), '*')\n",
    "\n",
    "        def _backward():\n",
    "            self.grad = other.grad * out.grad\n",
    "            other.grad = self.grad * out.grad\n",
    "        out._backward = _backward\n",
    "\n",
    "        return out\n",
    "    \n",
    "    def tanh(self):\n",
    "        x = self.data\n",
    "        t = (np.exp(2 * x) - 1) / (np.exp(2 * x) + 1)\n",
    "        out = Value(t, (self, ), 'tanh')\n",
    "\n",
    "        def _backward():\n",
    "            self.grad = (1 - t**2) * out.grad\n",
    "        out._backward = _backward\n",
    "\n",
    "        return out"
   ]
  },
  {
   "cell_type": "code",
   "execution_count": 16,
   "metadata": {},
   "outputs": [
    {
     "data": {
      "text/plain": [
       "Value(data=-8.0)"
      ]
     },
     "execution_count": 16,
     "metadata": {},
     "output_type": "execute_result"
    }
   ],
   "source": [
    "# Operations in action\n",
    "a = Value(2.0, label='a')\n",
    "b = Value(-3.0, label='b')\n",
    "c = Value(10.0, label='c')\n",
    "\n",
    "e = a*b; e.label = 'e'\n",
    "d = e + c; d.label='d' \n",
    "d # worked well \n",
    "\n",
    "f = Value(-2.0, label='f')\n",
    "L = d * f; L.label='L' # output of graph\n",
    "L"
   ]
  },
  {
   "cell_type": "code",
   "execution_count": 43,
   "metadata": {},
   "outputs": [
    {
     "name": "stdout",
     "output_type": "stream",
     "text": [
      "{Value(data=-6.0), Value(data=10.0)}\n"
     ]
    }
   ],
   "source": [
    "# We get the children nodes, a*b and c. \n",
    "print(d._prev)"
   ]
  },
  {
   "cell_type": "code",
   "execution_count": 49,
   "metadata": {},
   "outputs": [
    {
     "name": "stdout",
     "output_type": "stream",
     "text": [
      "+\n"
     ]
    }
   ],
   "source": [
    "# Returns '+', so we know that d was produced through an addition of the two children Values\n",
    "print(d._op)"
   ]
  },
  {
   "attachments": {},
   "cell_type": "markdown",
   "metadata": {},
   "source": [
    "#### Visualisations\n",
    "\n",
    "Visualise the expression graphs."
   ]
  },
  {
   "cell_type": "code",
   "execution_count": 36,
   "metadata": {},
   "outputs": [],
   "source": [
    "from graphviz import Digraph \n",
    "\n",
    "def trace(root):\n",
    "    # builds a set of all nodes and edges in a graph\n",
    "    nodes, edges = set(), set()\n",
    "\n",
    "    def build(v):\n",
    "        if v not in nodes:\n",
    "            nodes.add(v)\n",
    "            for child in v._prev:\n",
    "                edges.add((child, v))\n",
    "                build(child)\n",
    "\n",
    "    build(root)\n",
    "    return nodes, edges\n",
    "\n",
    "\n",
    "def draw_dot(root):\n",
    "    dot = Digraph(format='svg', graph_attr={'rankdir': 'LR'}) # LR = left to right\n",
    "\n",
    "    nodes, edges = trace(root)\n",
    "    for n in nodes:\n",
    "        uid = str(id(n))\n",
    "\n",
    "        # for any value in the graph, create a rectangular 'record' node for it\n",
    "        dot.node(name=uid, label='{%s | data %.4f | grad %.4f}' % (n.label, n.data, n.grad), shape='record')\n",
    "        if n._op:\n",
    "            # if this value is a result of an operation, create an op node for it\n",
    "            dot.node(name=uid + n._op, label=n._op)\n",
    "            # and connect this node to it\n",
    "            dot.edge(uid + n._op, uid)\n",
    "\n",
    "    for n1, n2 in edges:\n",
    "        # connect n1 to the op node of n2\n",
    "        dot.edge(str(id(n1)), str(id(n2)) + n2._op)\n",
    "\n",
    "    return dot"
   ]
  },
  {
   "cell_type": "code",
   "execution_count": 17,
   "metadata": {},
   "outputs": [],
   "source": [
    "# Add gradients calculated below\n",
    "L.grad = 1.0\n",
    "d.grad = -2.0 \n",
    "f.grad = 4.0\n",
    "c.grad = -2.0\n",
    "e.grad = -2.0\n",
    "a.grad = -3.0 * -2.0\n",
    "b.grad = 2.0 * -2.0"
   ]
  },
  {
   "cell_type": "code",
   "execution_count": 8,
   "metadata": {},
   "outputs": [
    {
     "data": {
      "image/svg+xml": "<?xml version=\"1.0\" encoding=\"UTF-8\" standalone=\"no\"?>\n<!DOCTYPE svg PUBLIC \"-//W3C//DTD SVG 1.1//EN\"\n \"http://www.w3.org/Graphics/SVG/1.1/DTD/svg11.dtd\">\n<!-- Generated by graphviz version 2.50.0 (0)\n -->\n<!-- Pages: 1 -->\n<svg width=\"1343pt\" height=\"154pt\"\n viewBox=\"0.00 0.00 1343.00 154.00\" xmlns=\"http://www.w3.org/2000/svg\" xmlns:xlink=\"http://www.w3.org/1999/xlink\">\n<g id=\"graph0\" class=\"graph\" transform=\"scale(1 1) rotate(0) translate(4 150)\">\n<polygon fill=\"white\" stroke=\"transparent\" points=\"-4,4 -4,-150 1339,-150 1339,4 -4,4\"/>\n<!-- 140277544917120 -->\n<g id=\"node1\" class=\"node\">\n<title>140277544917120</title>\n<polygon fill=\"none\" stroke=\"black\" points=\"368.5,-27.5 368.5,-63.5 608.5,-63.5 608.5,-27.5 368.5,-27.5\"/>\n<text text-anchor=\"middle\" x=\"381\" y=\"-41.8\" font-family=\"Times,serif\" font-size=\"14.00\">e</text>\n<polyline fill=\"none\" stroke=\"black\" points=\"393.5,-27.5 393.5,-63.5 \"/>\n<text text-anchor=\"middle\" x=\"447\" y=\"-41.8\" font-family=\"Times,serif\" font-size=\"14.00\">data &#45;6.0000</text>\n<polyline fill=\"none\" stroke=\"black\" points=\"500.5,-27.5 500.5,-63.5 \"/>\n<text text-anchor=\"middle\" x=\"554.5\" y=\"-41.8\" font-family=\"Times,serif\" font-size=\"14.00\">grad &#45;2.0000</text>\n</g>\n<!-- 140277544916400+ -->\n<g id=\"node9\" class=\"node\">\n<title>140277544916400+</title>\n<ellipse fill=\"none\" stroke=\"black\" cx=\"673\" cy=\"-72.5\" rx=\"27\" ry=\"18\"/>\n<text text-anchor=\"middle\" x=\"673\" y=\"-68.8\" font-family=\"Times,serif\" font-size=\"14.00\">+</text>\n</g>\n<!-- 140277544917120&#45;&gt;140277544916400+ -->\n<g id=\"edge9\" class=\"edge\">\n<title>140277544917120&#45;&gt;140277544916400+</title>\n<path fill=\"none\" stroke=\"black\" d=\"M608.68,-63.13C618.57,-64.6 627.98,-65.99 636.37,-67.23\"/>\n<polygon fill=\"black\" stroke=\"black\" points=\"636.02,-70.71 646.42,-68.72 637.04,-63.79 636.02,-70.71\"/>\n</g>\n<!-- 140277544917120* -->\n<g id=\"node2\" class=\"node\">\n<title>140277544917120*</title>\n<ellipse fill=\"none\" stroke=\"black\" cx=\"304\" cy=\"-45.5\" rx=\"27\" ry=\"18\"/>\n<text text-anchor=\"middle\" x=\"304\" y=\"-41.8\" font-family=\"Times,serif\" font-size=\"14.00\">*</text>\n</g>\n<!-- 140277544917120*&#45;&gt;140277544917120 -->\n<g id=\"edge1\" class=\"edge\">\n<title>140277544917120*&#45;&gt;140277544917120</title>\n<path fill=\"none\" stroke=\"black\" d=\"M331.15,-45.5C338.98,-45.5 348.16,-45.5 358.06,-45.5\"/>\n<polygon fill=\"black\" stroke=\"black\" points=\"358.19,-49 368.19,-45.5 358.19,-42 358.19,-49\"/>\n</g>\n<!-- 140277542779536 -->\n<g id=\"node3\" class=\"node\">\n<title>140277542779536</title>\n<polygon fill=\"none\" stroke=\"black\" points=\"5,-55.5 5,-91.5 236,-91.5 236,-55.5 5,-55.5\"/>\n<text text-anchor=\"middle\" x=\"17.5\" y=\"-69.8\" font-family=\"Times,serif\" font-size=\"14.00\">a</text>\n<polyline fill=\"none\" stroke=\"black\" points=\"30,-55.5 30,-91.5 \"/>\n<text text-anchor=\"middle\" x=\"81\" y=\"-69.8\" font-family=\"Times,serif\" font-size=\"14.00\">data 2.0000</text>\n<polyline fill=\"none\" stroke=\"black\" points=\"132,-55.5 132,-91.5 \"/>\n<text text-anchor=\"middle\" x=\"184\" y=\"-69.8\" font-family=\"Times,serif\" font-size=\"14.00\">grad 6.0000</text>\n</g>\n<!-- 140277542779536&#45;&gt;140277544917120* -->\n<g id=\"edge5\" class=\"edge\">\n<title>140277542779536&#45;&gt;140277544917120*</title>\n<path fill=\"none\" stroke=\"black\" d=\"M236.19,-55.81C247.37,-54.08 258.02,-52.44 267.41,-50.99\"/>\n<polygon fill=\"black\" stroke=\"black\" points=\"268.08,-54.43 277.43,-49.44 267.01,-47.51 268.08,-54.43\"/>\n</g>\n<!-- 140277544916688 -->\n<g id=\"node4\" class=\"node\">\n<title>140277544916688</title>\n<polygon fill=\"none\" stroke=\"black\" points=\"1098,-81.5 1098,-117.5 1335,-117.5 1335,-81.5 1098,-81.5\"/>\n<text text-anchor=\"middle\" x=\"1111\" y=\"-95.8\" font-family=\"Times,serif\" font-size=\"14.00\">L</text>\n<polyline fill=\"none\" stroke=\"black\" points=\"1124,-81.5 1124,-117.5 \"/>\n<text text-anchor=\"middle\" x=\"1177.5\" y=\"-95.8\" font-family=\"Times,serif\" font-size=\"14.00\">data &#45;8.0000</text>\n<polyline fill=\"none\" stroke=\"black\" points=\"1231,-81.5 1231,-117.5 \"/>\n<text text-anchor=\"middle\" x=\"1283\" y=\"-95.8\" font-family=\"Times,serif\" font-size=\"14.00\">grad 1.0000</text>\n</g>\n<!-- 140277544916688* -->\n<g id=\"node5\" class=\"node\">\n<title>140277544916688*</title>\n<ellipse fill=\"none\" stroke=\"black\" cx=\"1035\" cy=\"-99.5\" rx=\"27\" ry=\"18\"/>\n<text text-anchor=\"middle\" x=\"1035\" y=\"-95.8\" font-family=\"Times,serif\" font-size=\"14.00\">*</text>\n</g>\n<!-- 140277544916688*&#45;&gt;140277544916688 -->\n<g id=\"edge2\" class=\"edge\">\n<title>140277544916688*&#45;&gt;140277544916688</title>\n<path fill=\"none\" stroke=\"black\" d=\"M1062.1,-99.5C1069.61,-99.5 1078.33,-99.5 1087.75,-99.5\"/>\n<polygon fill=\"black\" stroke=\"black\" points=\"1087.78,-103 1097.78,-99.5 1087.78,-96 1087.78,-103\"/>\n</g>\n<!-- 140277544813904 -->\n<g id=\"node6\" class=\"node\">\n<title>140277544813904</title>\n<polygon fill=\"none\" stroke=\"black\" points=\"0,-0.5 0,-36.5 241,-36.5 241,-0.5 0,-0.5\"/>\n<text text-anchor=\"middle\" x=\"13\" y=\"-14.8\" font-family=\"Times,serif\" font-size=\"14.00\">b</text>\n<polyline fill=\"none\" stroke=\"black\" points=\"26,-0.5 26,-36.5 \"/>\n<text text-anchor=\"middle\" x=\"79.5\" y=\"-14.8\" font-family=\"Times,serif\" font-size=\"14.00\">data &#45;3.0000</text>\n<polyline fill=\"none\" stroke=\"black\" points=\"133,-0.5 133,-36.5 \"/>\n<text text-anchor=\"middle\" x=\"187\" y=\"-14.8\" font-family=\"Times,serif\" font-size=\"14.00\">grad &#45;4.0000</text>\n</g>\n<!-- 140277544813904&#45;&gt;140277544917120* -->\n<g id=\"edge8\" class=\"edge\">\n<title>140277544813904&#45;&gt;140277544917120*</title>\n<path fill=\"none\" stroke=\"black\" d=\"M241.05,-36.28C250.46,-37.68 259.41,-39.02 267.44,-40.21\"/>\n<polygon fill=\"black\" stroke=\"black\" points=\"267.01,-43.68 277.41,-41.69 268.04,-36.76 267.01,-43.68\"/>\n</g>\n<!-- 140277542778768 -->\n<g id=\"node7\" class=\"node\">\n<title>140277542778768</title>\n<polygon fill=\"none\" stroke=\"black\" points=\"367,-82.5 367,-118.5 610,-118.5 610,-82.5 367,-82.5\"/>\n<text text-anchor=\"middle\" x=\"379\" y=\"-96.8\" font-family=\"Times,serif\" font-size=\"14.00\">c</text>\n<polyline fill=\"none\" stroke=\"black\" points=\"391,-82.5 391,-118.5 \"/>\n<text text-anchor=\"middle\" x=\"446.5\" y=\"-96.8\" font-family=\"Times,serif\" font-size=\"14.00\">data 10.0000</text>\n<polyline fill=\"none\" stroke=\"black\" points=\"502,-82.5 502,-118.5 \"/>\n<text text-anchor=\"middle\" x=\"556\" y=\"-96.8\" font-family=\"Times,serif\" font-size=\"14.00\">grad &#45;2.0000</text>\n</g>\n<!-- 140277542778768&#45;&gt;140277544916400+ -->\n<g id=\"edge7\" class=\"edge\">\n<title>140277542778768&#45;&gt;140277544916400+</title>\n<path fill=\"none\" stroke=\"black\" d=\"M606.89,-82.49C617.53,-80.86 627.65,-79.3 636.61,-77.93\"/>\n<polygon fill=\"black\" stroke=\"black\" points=\"637.2,-81.38 646.55,-76.4 636.14,-74.46 637.2,-81.38\"/>\n</g>\n<!-- 140277544916400 -->\n<g id=\"node8\" class=\"node\">\n<title>140277544916400</title>\n<polygon fill=\"none\" stroke=\"black\" points=\"736,-54.5 736,-90.5 972,-90.5 972,-54.5 736,-54.5\"/>\n<text text-anchor=\"middle\" x=\"749\" y=\"-68.8\" font-family=\"Times,serif\" font-size=\"14.00\">d</text>\n<polyline fill=\"none\" stroke=\"black\" points=\"762,-54.5 762,-90.5 \"/>\n<text text-anchor=\"middle\" x=\"813\" y=\"-68.8\" font-family=\"Times,serif\" font-size=\"14.00\">data 4.0000</text>\n<polyline fill=\"none\" stroke=\"black\" points=\"864,-54.5 864,-90.5 \"/>\n<text text-anchor=\"middle\" x=\"918\" y=\"-68.8\" font-family=\"Times,serif\" font-size=\"14.00\">grad &#45;2.0000</text>\n</g>\n<!-- 140277544916400&#45;&gt;140277544916688* -->\n<g id=\"edge4\" class=\"edge\">\n<title>140277544916400&#45;&gt;140277544916688*</title>\n<path fill=\"none\" stroke=\"black\" d=\"M972.15,-90.17C981.53,-91.58 990.46,-92.93 998.46,-94.14\"/>\n<polygon fill=\"black\" stroke=\"black\" points=\"998.01,-97.61 1008.42,-95.64 999.06,-90.69 998.01,-97.61\"/>\n</g>\n<!-- 140277544916400+&#45;&gt;140277544916400 -->\n<g id=\"edge3\" class=\"edge\">\n<title>140277544916400+&#45;&gt;140277544916400</title>\n<path fill=\"none\" stroke=\"black\" d=\"M700.03,-72.5C707.58,-72.5 716.38,-72.5 725.87,-72.5\"/>\n<polygon fill=\"black\" stroke=\"black\" points=\"725.99,-76 735.99,-72.5 725.99,-69 725.99,-76\"/>\n</g>\n<!-- 140277544916928 -->\n<g id=\"node10\" class=\"node\">\n<title>140277544916928</title>\n<polygon fill=\"none\" stroke=\"black\" points=\"737.5,-109.5 737.5,-145.5 970.5,-145.5 970.5,-109.5 737.5,-109.5\"/>\n<text text-anchor=\"middle\" x=\"748.5\" y=\"-123.8\" font-family=\"Times,serif\" font-size=\"14.00\">f</text>\n<polyline fill=\"none\" stroke=\"black\" points=\"759.5,-109.5 759.5,-145.5 \"/>\n<text text-anchor=\"middle\" x=\"813\" y=\"-123.8\" font-family=\"Times,serif\" font-size=\"14.00\">data &#45;2.0000</text>\n<polyline fill=\"none\" stroke=\"black\" points=\"866.5,-109.5 866.5,-145.5 \"/>\n<text text-anchor=\"middle\" x=\"918.5\" y=\"-123.8\" font-family=\"Times,serif\" font-size=\"14.00\">grad 4.0000</text>\n</g>\n<!-- 140277544916928&#45;&gt;140277544916688* -->\n<g id=\"edge6\" class=\"edge\">\n<title>140277544916928&#45;&gt;140277544916688*</title>\n<path fill=\"none\" stroke=\"black\" d=\"M970.13,-109.49C980.27,-107.91 989.92,-106.4 998.51,-105.05\"/>\n<polygon fill=\"black\" stroke=\"black\" points=\"999.09,-108.5 1008.43,-103.5 998.01,-101.59 999.09,-108.5\"/>\n</g>\n</g>\n</svg>\n",
      "text/plain": [
       "<graphviz.graphs.Digraph at 0x7f94e93c14f0>"
      ]
     },
     "execution_count": 8,
     "metadata": {},
     "output_type": "execute_result"
    }
   ],
   "source": [
    "draw_dot(L)"
   ]
  },
  {
   "attachments": {},
   "cell_type": "markdown",
   "metadata": {},
   "source": [
    "In the function below, playing around with different gradients and manipulations to see how it affects the network. By adding h to each of the variables in the second part below, we can then calculate the gradient of L with respect to those terms.\n",
    "\n",
    "1. We start with L - the output. What is the derivative of L with respect to L? In other words, if I change L by a tiny amount h, how much does L change? Obviously it is proportional, so the derivative is 1. \n",
    "2. Next is d - what is dL/dd? If you know calculus: L is d * f, so dL/dd is just f. Analytically, this is the same as: \n",
    "* (f(x+h) - f(x)) / h --> ((d + h) * f - (d * f)) / h --> (df + hf - df) / h --> hf / h --> h.  \n",
    "3. Likewise, the gradient of L with respect to f is just d, since L = d * f.\n",
    "4. Next, we want dL/dc. We know how d impacts L, and we know how c impacts d, so we should be able to put that info together. d = c + e, therefore, dd/dc = 1, following same explanation as above. This is the local derivative (in that it is local to d, c, and but is not what we want - we want the global derivative of L with respect to c). We find out dL/dc at this point using the chain rule (shown below). So - we multiply dL/dd by dd/dc to get dL/dc. -2.0 * 1.0 = -2.0.\n",
    "5. By symmetry, dd/de will also be 1 and dL/de = -2.0 * 1.0 = -2.0. So basically what a '+' node does is route the gradients - their local derivative is always 1.0. So, the previous derivative gets passed to the nodes being summed.\n",
    "6. Next we want dL/da. Since e = a*b, using the chain rule, we know that dL/da = dL/de * de/da. de/da = b = -3.0. Therefore, dL/da = -2.0 * -3.0 = 6.0\n",
    "7. And dL/db = dL/de * de/db. de/db = a = 2.0. dL/db = -2.0 * 2.0 = -4.0.\n",
    "\n",
    "\n",
    "<b><u>And that is pretty much backpropagation.</u></b> We always know the derivative L with respect to whatever nodes & operations that produced L. We just recursively multiply local derivatives, i.e. recursively apply the chain rule - back through the computational graph."
   ]
  },
  {
   "attachments": {},
   "cell_type": "markdown",
   "metadata": {},
   "source": [
    "<u>The chain rule</u>: If a variable z depends on the variable y, which itself depends on the variable x, then z depends on x as well, via the intermediate variable y. The chain rule is then expressed as:\n",
    "- dz/dx = dz/dy * dy/dx\n",
    "\n",
    "<u>Intuitive explanation</u>: z = car, y = bicycle, x = man. If a car travels 2x as fast as a bicycle, and the bicycle is 4x as fast as a walking man, then the car travels 2 * 4 = 8 times as fast as the man. The rate of change of relative positions of the car and the bicycle is dz/dy = 2 and dy/dx = 4. So, the rate of change of the relative positions of the car and the walking man is 2 * 4 = 8. "
   ]
  },
  {
   "cell_type": "code",
   "execution_count": 22,
   "metadata": {},
   "outputs": [
    {
     "name": "stdout",
     "output_type": "stream",
     "text": [
      "6.000000000021544\n"
     ]
    }
   ],
   "source": [
    "def lol():\n",
    "    \"\"\" Inline gradient check \"\"\"\n",
    "\n",
    "    h = 0.0001\n",
    "\n",
    "    a = Value(2.0, label='a')\n",
    "    b = Value(-3.0, label='b')\n",
    "    c = Value(10.0, label='c')\n",
    "    e = a*b; e.label = 'e'\n",
    "    d = e + c; d.label='d' \n",
    "    f = Value(-2.0, label='f')\n",
    "    L = d * f; L.label='L'\n",
    "    L1 = L.data\n",
    "\n",
    "    a = Value(2.0 + h, label='a')\n",
    "    b = Value(-3.0, label='b')\n",
    "    c = Value(10.0, label='c')\n",
    "    e = a*b; e.label = 'e'\n",
    "    d = e + c; d.label='d' \n",
    "    #d.data += h\n",
    "    f = Value(-2.0, label='f')\n",
    "    L = d * f; L.label='L'\n",
    "    L2 = L.data \n",
    "\n",
    "    print((L2 - L1) / h)\n",
    "\n",
    "lol()"
   ]
  },
  {
   "attachments": {},
   "cell_type": "markdown",
   "metadata": {},
   "source": [
    "#### Preview of a single optimisation step\n",
    "\n",
    "We will nudge our inputs to make L go up. If we want to do this, we need to go in the direction of the gradient."
   ]
  },
  {
   "cell_type": "code",
   "execution_count": 18,
   "metadata": {},
   "outputs": [
    {
     "name": "stdout",
     "output_type": "stream",
     "text": [
      "-7.286496\n"
     ]
    }
   ],
   "source": [
    "# Increase a by a small amount. 0.01 is the step size.\n",
    "a.data += 0.01 * a.grad\n",
    "\n",
    "# We do it for all the other leaf nodes as well, i.e. those we have control over\n",
    "# The others are created by operations between those leaf nodes\n",
    "b.data += 0.01 * b.grad\n",
    "c.data += 0.01 * c.grad\n",
    "f.data += 0.01 * f.grad\n",
    "\n",
    "# And we re-run the forward pass\n",
    "e = a * b\n",
    "d = e + c\n",
    "L = d * f\n",
    "\n",
    "# Since we're nudging L in a positive direction, we expect it to be \"less negative\"\n",
    "# And indeed, from -8 --> -7.29\n",
    "print(L.data)"
   ]
  },
  {
   "attachments": {},
   "cell_type": "markdown",
   "metadata": {},
   "source": [
    "#### Backpropagation example with a neuron\n",
    "\n",
    "A neuron takes in (multiple) inputs * weights + bias. This bias is the innate \"trigger happiness\" of the neuron and is regardless of the input. All this is then passed through an activation function, which is essentially a squashing function. E.g. a sigmoid function squeezes the inputs to be between 0 and 1. A tanh function squeezes the inputs to be between -1 and 1. \n",
    "\n",
    "We have to manually implement our own tanh function because tanh is a hyperbolic function. We have only operations for additions and multiplications; you can't make a tanh function out of these only. You also need exponentation. We've added this to the Value class. We could also have created a 'exp' method and used this; this would be the most atomic piece. But the most important thing is just to calculate the local derivative of a node, for that we don't need the most atomic pieces and we can create a tanh method to do this directly. As long as we know it's derivative, then we will be able to backpropagate through it."
   ]
  },
  {
   "cell_type": "code",
   "execution_count": 25,
   "metadata": {},
   "outputs": [],
   "source": [
    "# Example neuron\n",
    "\n",
    "# Inputs\n",
    "x1 = Value(2.0, label='x1')\n",
    "x2 = Value(0.0, label='x2')\n",
    "\n",
    "# Weights = \"synaptic strength\" of each input\n",
    "w1 = Value(-3.0, label='w1')\n",
    "w2 = Value(1.0, label='w2')\n",
    "\n",
    "# Bias\n",
    "b = Value(6.8813735870195432, label='b') # a strange number in order to facilitate understanding of backprop step\n",
    "\n",
    "# Inputs get multiplied by weights\n",
    "x1w1 = x1 * w1; x1w1.label='x1w1'\n",
    "x2w2 = x2 * w2; x2w2.label='x2w2'\n",
    "x1w1x2w2 = x1w1 + x2w2; x1w1x2w2.label='x1w1x2w2'\n",
    "\n",
    "n = x1w1x2w2 + b; n.label='n'\n",
    "\n",
    "# Activation function\n",
    "o = n.tanh()"
   ]
  },
  {
   "attachments": {},
   "cell_type": "markdown",
   "metadata": {},
   "source": [
    "#### Backprop notes\n",
    "\n",
    "1. The gradient of o with respect to itself is just 1.0\n",
    "2. To find do/dn, we need to know the derivative of tanh, which is 1 - tanh(x)^2 --> 1 - tanh(n)^2 --> 1 - o^2. \n",
    "* Conveniently, o^2 is 0.5, so do/dn = 1.0 - 0.5 = 0.5.\n",
    "3. Next, we have a + node, which means the gradient will flow through to x1w1x2w2 and b, = 0.5.\n",
    "4. Same for x1w1 and x2w2.\n",
    "5. For x1, the gradient will be w1.data * x1w1.grad = -3.0 * 0.5.\n",
    "6. For w1, the gradient will be x1.data * x1w1.grad = 2.0 * 0.5. \n",
    "7. Same for x2 and w2. x2 is 0, so gradient of w2 will be 0. This means that if I change w2, the output doesn't change at all. There is no gradient here. "
   ]
  },
  {
   "cell_type": "code",
   "execution_count": 32,
   "metadata": {},
   "outputs": [],
   "source": [
    "# Backprop step to fill in the gradients\n",
    "# The gradient of o with respect to all the nodes (but the weights specifically, since this is what is changed in optimisation)\n",
    "o.grad = 1.0\n",
    "n.grad = 0.5\n",
    "b.grad = 0.\n",
    "x1w1x2w2.grad = 0.5\n",
    "x1w1.grad = 0.5\n",
    "x2w2.grad = 0.5\n",
    "x1.grad = -1.5\n",
    "w1.grad = 1.0\n",
    "x2.grad = 0.5\n",
    "w2.grad = 0"
   ]
  },
  {
   "cell_type": "code",
   "execution_count": 33,
   "metadata": {},
   "outputs": [
    {
     "data": {
      "image/svg+xml": "<?xml version=\"1.0\" encoding=\"UTF-8\" standalone=\"no\"?>\n<!DOCTYPE svg PUBLIC \"-//W3C//DTD SVG 1.1//EN\"\n \"http://www.w3.org/Graphics/SVG/1.1/DTD/svg11.dtd\">\n<!-- Generated by graphviz version 2.50.0 (0)\n -->\n<!-- Pages: 1 -->\n<svg width=\"1800pt\" height=\"210pt\"\n viewBox=\"0.00 0.00 1799.69 210.00\" xmlns=\"http://www.w3.org/2000/svg\" xmlns:xlink=\"http://www.w3.org/1999/xlink\">\n<g id=\"graph0\" class=\"graph\" transform=\"scale(1 1) rotate(0) translate(4 206)\">\n<polygon fill=\"white\" stroke=\"transparent\" points=\"-4,4 -4,-206 1795.69,-206 1795.69,4 -4,4\"/>\n<!-- 140277543818816 -->\n<g id=\"node1\" class=\"node\">\n<title>140277543818816</title>\n<polygon fill=\"none\" stroke=\"black\" points=\"767,-82.5 767,-118.5 1071,-118.5 1071,-82.5 767,-82.5\"/>\n<text text-anchor=\"middle\" x=\"813.5\" y=\"-96.8\" font-family=\"Times,serif\" font-size=\"14.00\">x1w1x2w2</text>\n<polyline fill=\"none\" stroke=\"black\" points=\"860,-82.5 860,-118.5 \"/>\n<text text-anchor=\"middle\" x=\"913.5\" y=\"-96.8\" font-family=\"Times,serif\" font-size=\"14.00\">data &#45;6.0000</text>\n<polyline fill=\"none\" stroke=\"black\" points=\"967,-82.5 967,-118.5 \"/>\n<text text-anchor=\"middle\" x=\"1019\" y=\"-96.8\" font-family=\"Times,serif\" font-size=\"14.00\">grad 0.5000</text>\n</g>\n<!-- 140277542688128+ -->\n<g id=\"node11\" class=\"node\">\n<title>140277542688128+</title>\n<ellipse fill=\"none\" stroke=\"black\" cx=\"1134\" cy=\"-127.5\" rx=\"27\" ry=\"18\"/>\n<text text-anchor=\"middle\" x=\"1134\" y=\"-123.8\" font-family=\"Times,serif\" font-size=\"14.00\">+</text>\n</g>\n<!-- 140277543818816&#45;&gt;140277542688128+ -->\n<g id=\"edge11\" class=\"edge\">\n<title>140277543818816&#45;&gt;140277542688128+</title>\n<path fill=\"none\" stroke=\"black\" d=\"M1062.07,-118.51C1074.76,-120.12 1086.69,-121.63 1097.01,-122.94\"/>\n<polygon fill=\"black\" stroke=\"black\" points=\"1096.79,-126.44 1107.15,-124.22 1097.67,-119.49 1096.79,-126.44\"/>\n</g>\n<!-- 140277543818816+ -->\n<g id=\"node2\" class=\"node\">\n<title>140277543818816+</title>\n<ellipse fill=\"none\" stroke=\"black\" cx=\"704\" cy=\"-100.5\" rx=\"27\" ry=\"18\"/>\n<text text-anchor=\"middle\" x=\"704\" y=\"-96.8\" font-family=\"Times,serif\" font-size=\"14.00\">+</text>\n</g>\n<!-- 140277543818816+&#45;&gt;140277543818816 -->\n<g id=\"edge1\" class=\"edge\">\n<title>140277543818816+&#45;&gt;140277543818816</title>\n<path fill=\"none\" stroke=\"black\" d=\"M731.12,-100.5C738.54,-100.5 747.2,-100.5 756.66,-100.5\"/>\n<polygon fill=\"black\" stroke=\"black\" points=\"756.79,-104 766.79,-100.5 756.79,-97 756.79,-104\"/>\n</g>\n<!-- 140277542819920 -->\n<g id=\"node3\" class=\"node\">\n<title>140277542819920</title>\n<polygon fill=\"none\" stroke=\"black\" points=\"375,-110.5 375,-146.5 641,-146.5 641,-110.5 375,-110.5\"/>\n<text text-anchor=\"middle\" x=\"402.5\" y=\"-124.8\" font-family=\"Times,serif\" font-size=\"14.00\">x1w1</text>\n<polyline fill=\"none\" stroke=\"black\" points=\"430,-110.5 430,-146.5 \"/>\n<text text-anchor=\"middle\" x=\"483.5\" y=\"-124.8\" font-family=\"Times,serif\" font-size=\"14.00\">data &#45;6.0000</text>\n<polyline fill=\"none\" stroke=\"black\" points=\"537,-110.5 537,-146.5 \"/>\n<text text-anchor=\"middle\" x=\"589\" y=\"-124.8\" font-family=\"Times,serif\" font-size=\"14.00\">grad 0.5000</text>\n</g>\n<!-- 140277542819920&#45;&gt;140277543818816+ -->\n<g id=\"edge14\" class=\"edge\">\n<title>140277542819920&#45;&gt;140277543818816+</title>\n<path fill=\"none\" stroke=\"black\" d=\"M633.78,-110.49C645.77,-108.76 657.15,-107.12 667.08,-105.68\"/>\n<polygon fill=\"black\" stroke=\"black\" points=\"667.86,-109.11 677.25,-104.22 666.86,-102.18 667.86,-109.11\"/>\n</g>\n<!-- 140277542819920* -->\n<g id=\"node4\" class=\"node\">\n<title>140277542819920*</title>\n<ellipse fill=\"none\" stroke=\"black\" cx=\"312\" cy=\"-128.5\" rx=\"27\" ry=\"18\"/>\n<text text-anchor=\"middle\" x=\"312\" y=\"-124.8\" font-family=\"Times,serif\" font-size=\"14.00\">*</text>\n</g>\n<!-- 140277542819920*&#45;&gt;140277542819920 -->\n<g id=\"edge2\" class=\"edge\">\n<title>140277542819920*&#45;&gt;140277542819920</title>\n<path fill=\"none\" stroke=\"black\" d=\"M339.16,-128.5C346.61,-128.5 355.28,-128.5 364.68,-128.5\"/>\n<polygon fill=\"black\" stroke=\"black\" points=\"364.73,-132 374.73,-128.5 364.73,-125 364.73,-132\"/>\n</g>\n<!-- 140277545371344 -->\n<g id=\"node5\" class=\"node\">\n<title>140277545371344</title>\n<polygon fill=\"none\" stroke=\"black\" points=\"4.5,-55.5 4.5,-91.5 244.5,-91.5 244.5,-55.5 4.5,-55.5\"/>\n<text text-anchor=\"middle\" x=\"21.5\" y=\"-69.8\" font-family=\"Times,serif\" font-size=\"14.00\">x2</text>\n<polyline fill=\"none\" stroke=\"black\" points=\"38.5,-55.5 38.5,-91.5 \"/>\n<text text-anchor=\"middle\" x=\"89.5\" y=\"-69.8\" font-family=\"Times,serif\" font-size=\"14.00\">data 0.0000</text>\n<polyline fill=\"none\" stroke=\"black\" points=\"140.5,-55.5 140.5,-91.5 \"/>\n<text text-anchor=\"middle\" x=\"192.5\" y=\"-69.8\" font-family=\"Times,serif\" font-size=\"14.00\">grad 0.5000</text>\n</g>\n<!-- 140277544766432* -->\n<g id=\"node15\" class=\"node\">\n<title>140277544766432*</title>\n<ellipse fill=\"none\" stroke=\"black\" cx=\"312\" cy=\"-73.5\" rx=\"27\" ry=\"18\"/>\n<text text-anchor=\"middle\" x=\"312\" y=\"-69.8\" font-family=\"Times,serif\" font-size=\"14.00\">*</text>\n</g>\n<!-- 140277545371344&#45;&gt;140277544766432* -->\n<g id=\"edge10\" class=\"edge\">\n<title>140277545371344&#45;&gt;140277544766432*</title>\n<path fill=\"none\" stroke=\"black\" d=\"M244.55,-73.5C255.31,-73.5 265.54,-73.5 274.62,-73.5\"/>\n<polygon fill=\"black\" stroke=\"black\" points=\"274.7,-77 284.7,-73.5 274.7,-70 274.7,-77\"/>\n</g>\n<!-- 140277545372400 -->\n<g id=\"node6\" class=\"node\">\n<title>140277545372400</title>\n<polygon fill=\"none\" stroke=\"black\" points=\"2.5,-165.5 2.5,-201.5 246.5,-201.5 246.5,-165.5 2.5,-165.5\"/>\n<text text-anchor=\"middle\" x=\"19.5\" y=\"-179.8\" font-family=\"Times,serif\" font-size=\"14.00\">x1</text>\n<polyline fill=\"none\" stroke=\"black\" points=\"36.5,-165.5 36.5,-201.5 \"/>\n<text text-anchor=\"middle\" x=\"87.5\" y=\"-179.8\" font-family=\"Times,serif\" font-size=\"14.00\">data 2.0000</text>\n<polyline fill=\"none\" stroke=\"black\" points=\"138.5,-165.5 138.5,-201.5 \"/>\n<text text-anchor=\"middle\" x=\"192.5\" y=\"-179.8\" font-family=\"Times,serif\" font-size=\"14.00\">grad &#45;1.5000</text>\n</g>\n<!-- 140277545372400&#45;&gt;140277542819920* -->\n<g id=\"edge13\" class=\"edge\">\n<title>140277545372400&#45;&gt;140277542819920*</title>\n<path fill=\"none\" stroke=\"black\" d=\"M218.13,-165.46C228.63,-162.77 239.1,-159.78 249,-156.5 259.71,-152.96 271.05,-148.16 281.07,-143.54\"/>\n<polygon fill=\"black\" stroke=\"black\" points=\"282.67,-146.66 290.2,-139.21 279.67,-140.33 282.67,-146.66\"/>\n</g>\n<!-- 140277545371392 -->\n<g id=\"node7\" class=\"node\">\n<title>140277545371392</title>\n<polygon fill=\"none\" stroke=\"black\" points=\"2.5,-0.5 2.5,-36.5 246.5,-36.5 246.5,-0.5 2.5,-0.5\"/>\n<text text-anchor=\"middle\" x=\"21.5\" y=\"-14.8\" font-family=\"Times,serif\" font-size=\"14.00\">w2</text>\n<polyline fill=\"none\" stroke=\"black\" points=\"40.5,-0.5 40.5,-36.5 \"/>\n<text text-anchor=\"middle\" x=\"91.5\" y=\"-14.8\" font-family=\"Times,serif\" font-size=\"14.00\">data 1.0000</text>\n<polyline fill=\"none\" stroke=\"black\" points=\"142.5,-0.5 142.5,-36.5 \"/>\n<text text-anchor=\"middle\" x=\"194.5\" y=\"-14.8\" font-family=\"Times,serif\" font-size=\"14.00\">grad 0.0000</text>\n</g>\n<!-- 140277545371392&#45;&gt;140277544766432* -->\n<g id=\"edge8\" class=\"edge\">\n<title>140277545371392&#45;&gt;140277544766432*</title>\n<path fill=\"none\" stroke=\"black\" d=\"M214.42,-36.55C226.15,-39.54 237.93,-42.87 249,-46.5 259.46,-49.93 270.57,-54.47 280.46,-58.84\"/>\n<polygon fill=\"black\" stroke=\"black\" points=\"279.31,-62.17 289.87,-63.12 282.21,-55.79 279.31,-62.17\"/>\n</g>\n<!-- 140277545370960 -->\n<g id=\"node8\" class=\"node\">\n<title>140277545370960</title>\n<polygon fill=\"none\" stroke=\"black\" points=\"0,-110.5 0,-146.5 249,-146.5 249,-110.5 0,-110.5\"/>\n<text text-anchor=\"middle\" x=\"19\" y=\"-124.8\" font-family=\"Times,serif\" font-size=\"14.00\">w1</text>\n<polyline fill=\"none\" stroke=\"black\" points=\"38,-110.5 38,-146.5 \"/>\n<text text-anchor=\"middle\" x=\"91.5\" y=\"-124.8\" font-family=\"Times,serif\" font-size=\"14.00\">data &#45;3.0000</text>\n<polyline fill=\"none\" stroke=\"black\" points=\"145,-110.5 145,-146.5 \"/>\n<text text-anchor=\"middle\" x=\"197\" y=\"-124.8\" font-family=\"Times,serif\" font-size=\"14.00\">grad 1.0000</text>\n</g>\n<!-- 140277545370960&#45;&gt;140277542819920* -->\n<g id=\"edge12\" class=\"edge\">\n<title>140277545370960&#45;&gt;140277542819920*</title>\n<path fill=\"none\" stroke=\"black\" d=\"M249.23,-128.5C258.37,-128.5 267.05,-128.5 274.87,-128.5\"/>\n<polygon fill=\"black\" stroke=\"black\" points=\"274.95,-132 284.95,-128.5 274.95,-125 274.95,-132\"/>\n</g>\n<!-- 140277545372016 -->\n<g id=\"node9\" class=\"node\">\n<title>140277545372016</title>\n<polygon fill=\"none\" stroke=\"black\" points=\"803,-137.5 803,-173.5 1035,-173.5 1035,-137.5 803,-137.5\"/>\n<text text-anchor=\"middle\" x=\"816\" y=\"-151.8\" font-family=\"Times,serif\" font-size=\"14.00\">b</text>\n<polyline fill=\"none\" stroke=\"black\" points=\"829,-137.5 829,-173.5 \"/>\n<text text-anchor=\"middle\" x=\"880\" y=\"-151.8\" font-family=\"Times,serif\" font-size=\"14.00\">data 6.8814</text>\n<polyline fill=\"none\" stroke=\"black\" points=\"931,-137.5 931,-173.5 \"/>\n<text text-anchor=\"middle\" x=\"983\" y=\"-151.8\" font-family=\"Times,serif\" font-size=\"14.00\">grad 0.0000</text>\n</g>\n<!-- 140277545372016&#45;&gt;140277542688128+ -->\n<g id=\"edge9\" class=\"edge\">\n<title>140277545372016&#45;&gt;140277542688128+</title>\n<path fill=\"none\" stroke=\"black\" d=\"M1035.23,-140.35C1057.63,-137.41 1079.52,-134.53 1096.88,-132.25\"/>\n<polygon fill=\"black\" stroke=\"black\" points=\"1097.62,-135.68 1107.08,-130.91 1096.7,-128.74 1097.62,-135.68\"/>\n</g>\n<!-- 140277542688128 -->\n<g id=\"node10\" class=\"node\">\n<title>140277542688128</title>\n<polygon fill=\"none\" stroke=\"black\" points=\"1197,-109.5 1197,-145.5 1429,-145.5 1429,-109.5 1197,-109.5\"/>\n<text text-anchor=\"middle\" x=\"1210\" y=\"-123.8\" font-family=\"Times,serif\" font-size=\"14.00\">n</text>\n<polyline fill=\"none\" stroke=\"black\" points=\"1223,-109.5 1223,-145.5 \"/>\n<text text-anchor=\"middle\" x=\"1274\" y=\"-123.8\" font-family=\"Times,serif\" font-size=\"14.00\">data 0.8814</text>\n<polyline fill=\"none\" stroke=\"black\" points=\"1325,-109.5 1325,-145.5 \"/>\n<text text-anchor=\"middle\" x=\"1377\" y=\"-123.8\" font-family=\"Times,serif\" font-size=\"14.00\">grad 0.5000</text>\n</g>\n<!-- 140277542690240tanh -->\n<g id=\"node13\" class=\"node\">\n<title>140277542690240tanh</title>\n<ellipse fill=\"none\" stroke=\"black\" cx=\"1496.85\" cy=\"-127.5\" rx=\"31.7\" ry=\"18\"/>\n<text text-anchor=\"middle\" x=\"1496.85\" y=\"-123.8\" font-family=\"Times,serif\" font-size=\"14.00\">tanh</text>\n</g>\n<!-- 140277542688128&#45;&gt;140277542690240tanh -->\n<g id=\"edge7\" class=\"edge\">\n<title>140277542688128&#45;&gt;140277542690240tanh</title>\n<path fill=\"none\" stroke=\"black\" d=\"M1429.17,-127.5C1438.08,-127.5 1446.66,-127.5 1454.53,-127.5\"/>\n<polygon fill=\"black\" stroke=\"black\" points=\"1454.78,-131 1464.78,-127.5 1454.78,-124 1454.78,-131\"/>\n</g>\n<!-- 140277542688128+&#45;&gt;140277542688128 -->\n<g id=\"edge3\" class=\"edge\">\n<title>140277542688128+&#45;&gt;140277542688128</title>\n<path fill=\"none\" stroke=\"black\" d=\"M1161.12,-127.5C1168.53,-127.5 1177.14,-127.5 1186.4,-127.5\"/>\n<polygon fill=\"black\" stroke=\"black\" points=\"1186.69,-131 1196.69,-127.5 1186.69,-124 1186.69,-131\"/>\n</g>\n<!-- 140277542690240 -->\n<g id=\"node12\" class=\"node\">\n<title>140277542690240</title>\n<polygon fill=\"none\" stroke=\"black\" points=\"1564.69,-109.5 1564.69,-145.5 1791.69,-145.5 1791.69,-109.5 1564.69,-109.5\"/>\n<text text-anchor=\"middle\" x=\"1575.19\" y=\"-123.8\" font-family=\"Times,serif\" font-size=\"14.00\"> </text>\n<polyline fill=\"none\" stroke=\"black\" points=\"1585.69,-109.5 1585.69,-145.5 \"/>\n<text text-anchor=\"middle\" x=\"1636.69\" y=\"-123.8\" font-family=\"Times,serif\" font-size=\"14.00\">data 0.7071</text>\n<polyline fill=\"none\" stroke=\"black\" points=\"1687.69,-109.5 1687.69,-145.5 \"/>\n<text text-anchor=\"middle\" x=\"1739.69\" y=\"-123.8\" font-family=\"Times,serif\" font-size=\"14.00\">grad 1.0000</text>\n</g>\n<!-- 140277542690240tanh&#45;&gt;140277542690240 -->\n<g id=\"edge4\" class=\"edge\">\n<title>140277542690240tanh&#45;&gt;140277542690240</title>\n<path fill=\"none\" stroke=\"black\" d=\"M1529.09,-127.5C1536.68,-127.5 1545.26,-127.5 1554.37,-127.5\"/>\n<polygon fill=\"black\" stroke=\"black\" points=\"1554.45,-131 1564.45,-127.5 1554.45,-124 1554.45,-131\"/>\n</g>\n<!-- 140277544766432 -->\n<g id=\"node14\" class=\"node\">\n<title>140277544766432</title>\n<polygon fill=\"none\" stroke=\"black\" points=\"377.5,-55.5 377.5,-91.5 638.5,-91.5 638.5,-55.5 377.5,-55.5\"/>\n<text text-anchor=\"middle\" x=\"405\" y=\"-69.8\" font-family=\"Times,serif\" font-size=\"14.00\">x2w2</text>\n<polyline fill=\"none\" stroke=\"black\" points=\"432.5,-55.5 432.5,-91.5 \"/>\n<text text-anchor=\"middle\" x=\"483.5\" y=\"-69.8\" font-family=\"Times,serif\" font-size=\"14.00\">data 0.0000</text>\n<polyline fill=\"none\" stroke=\"black\" points=\"534.5,-55.5 534.5,-91.5 \"/>\n<text text-anchor=\"middle\" x=\"586.5\" y=\"-69.8\" font-family=\"Times,serif\" font-size=\"14.00\">grad 0.5000</text>\n</g>\n<!-- 140277544766432&#45;&gt;140277543818816+ -->\n<g id=\"edge6\" class=\"edge\">\n<title>140277544766432&#45;&gt;140277543818816+</title>\n<path fill=\"none\" stroke=\"black\" d=\"M638.4,-91.51C648.78,-92.95 658.6,-94.32 667.3,-95.53\"/>\n<polygon fill=\"black\" stroke=\"black\" points=\"666.94,-99.01 677.32,-96.93 667.9,-92.08 666.94,-99.01\"/>\n</g>\n<!-- 140277544766432*&#45;&gt;140277544766432 -->\n<g id=\"edge5\" class=\"edge\">\n<title>140277544766432*&#45;&gt;140277544766432</title>\n<path fill=\"none\" stroke=\"black\" d=\"M339.16,-73.5C347.24,-73.5 356.75,-73.5 367.07,-73.5\"/>\n<polygon fill=\"black\" stroke=\"black\" points=\"367.2,-77 377.2,-73.5 367.2,-70 367.2,-77\"/>\n</g>\n</g>\n</svg>\n",
      "text/plain": [
       "<graphviz.graphs.Digraph at 0x7f94e922c460>"
      ]
     },
     "execution_count": 33,
     "metadata": {},
     "output_type": "execute_result"
    }
   ],
   "source": [
    "# Can see the tanh function has been added between n and o, squeezing n slightly.\n",
    "# Can try higher values of b to see this in action. \n",
    "draw_dot(o)"
   ]
  },
  {
   "attachments": {},
   "cell_type": "markdown",
   "metadata": {},
   "source": [
    "#### Autograd\n",
    "\n",
    "We obviously don't want to calculate the gradients manually, so we codify this operation in the Value class. We added a _backward that is an empty function to the class above - so be default it does nothing. For example, it would not calculate the gradient of a leaf node."
   ]
  },
  {
   "cell_type": "code",
   "execution_count": 18,
   "metadata": {},
   "outputs": [],
   "source": [
    "# Example neuron\n",
    "# Inputs\n",
    "x1 = Value(2.0, label='x1')\n",
    "x2 = Value(0.0, label='x2')\n",
    "\n",
    "# Weights = \"synaptic strength\" of each input\n",
    "w1 = Value(-3.0, label='w1')\n",
    "w2 = Value(1.0, label='w2')\n",
    "\n",
    "# Bias\n",
    "b = Value(6.8813735870195432, label='b') # a strange number in order to facilitate understanding of backprop step\n",
    "\n",
    "# Inputs get multiplied by weights\n",
    "x1w1 = x1 * w1; x1w1.label='x1w1'\n",
    "x2w2 = x2 * w2; x2w2.label='x2w2'\n",
    "x1w1x2w2 = x1w1 + x2w2; x1w1x2w2.label='x1w1x2w2'\n",
    "\n",
    "n = x1w1x2w2 + b; n.label='n'\n",
    "\n",
    "# Activation function\n",
    "o = n.tanh(); o.label='o'"
   ]
  },
  {
   "cell_type": "code",
   "execution_count": 7,
   "metadata": {},
   "outputs": [],
   "source": [
    "# In the _backward() method, there is a * out.grad, which is initialised to 0.0\n",
    "# So, as a base case, we need to manually initialise o.grad to 1.0.\n",
    "# Then we will be able to call backward() on the other nodes.\n",
    "o.grad = 1.0\n",
    "o._backward()\n",
    "n._backward()\n",
    "x1w1x2w2._backward()\n",
    "x1w1._backward()\n",
    "x2w2._backward()\n",
    "\n",
    "# All the others are leaf nodes and don't require it?\n",
    "# Karpathy's tutorial has them updating."
   ]
  },
  {
   "cell_type": "code",
   "execution_count": 8,
   "metadata": {},
   "outputs": [
    {
     "data": {
      "image/svg+xml": "<?xml version=\"1.0\" encoding=\"UTF-8\" standalone=\"no\"?>\n<!DOCTYPE svg PUBLIC \"-//W3C//DTD SVG 1.1//EN\"\n \"http://www.w3.org/Graphics/SVG/1.1/DTD/svg11.dtd\">\n<!-- Generated by graphviz version 2.50.0 (0)\n -->\n<!-- Pages: 1 -->\n<svg width=\"1804pt\" height=\"210pt\"\n viewBox=\"0.00 0.00 1803.69 210.00\" xmlns=\"http://www.w3.org/2000/svg\" xmlns:xlink=\"http://www.w3.org/1999/xlink\">\n<g id=\"graph0\" class=\"graph\" transform=\"scale(1 1) rotate(0) translate(4 206)\">\n<polygon fill=\"white\" stroke=\"transparent\" points=\"-4,4 -4,-206 1799.69,-206 1799.69,4 -4,4\"/>\n<!-- 140122243813920 -->\n<g id=\"node1\" class=\"node\">\n<title>140122243813920</title>\n<polygon fill=\"none\" stroke=\"black\" points=\"0,-165.5 0,-201.5 249,-201.5 249,-165.5 0,-165.5\"/>\n<text text-anchor=\"middle\" x=\"19\" y=\"-179.8\" font-family=\"Times,serif\" font-size=\"14.00\">w1</text>\n<polyline fill=\"none\" stroke=\"black\" points=\"38,-165.5 38,-201.5 \"/>\n<text text-anchor=\"middle\" x=\"91.5\" y=\"-179.8\" font-family=\"Times,serif\" font-size=\"14.00\">data &#45;3.0000</text>\n<polyline fill=\"none\" stroke=\"black\" points=\"145,-165.5 145,-201.5 \"/>\n<text text-anchor=\"middle\" x=\"197\" y=\"-179.8\" font-family=\"Times,serif\" font-size=\"14.00\">grad 0.0000</text>\n</g>\n<!-- 140122241914240* -->\n<g id=\"node13\" class=\"node\">\n<title>140122241914240*</title>\n<ellipse fill=\"none\" stroke=\"black\" cx=\"312\" cy=\"-128.5\" rx=\"27\" ry=\"18\"/>\n<text text-anchor=\"middle\" x=\"312\" y=\"-124.8\" font-family=\"Times,serif\" font-size=\"14.00\">*</text>\n</g>\n<!-- 140122243813920&#45;&gt;140122241914240* -->\n<g id=\"edge10\" class=\"edge\">\n<title>140122243813920&#45;&gt;140122241914240*</title>\n<path fill=\"none\" stroke=\"black\" d=\"M218.13,-165.46C228.63,-162.77 239.1,-159.78 249,-156.5 259.71,-152.96 271.05,-148.16 281.07,-143.54\"/>\n<polygon fill=\"black\" stroke=\"black\" points=\"282.67,-146.66 290.2,-139.21 279.67,-140.33 282.67,-146.66\"/>\n</g>\n<!-- 140122244167712 -->\n<g id=\"node2\" class=\"node\">\n<title>140122244167712</title>\n<polygon fill=\"none\" stroke=\"black\" points=\"377.5,-55.5 377.5,-91.5 638.5,-91.5 638.5,-55.5 377.5,-55.5\"/>\n<text text-anchor=\"middle\" x=\"405\" y=\"-69.8\" font-family=\"Times,serif\" font-size=\"14.00\">x2w2</text>\n<polyline fill=\"none\" stroke=\"black\" points=\"432.5,-55.5 432.5,-91.5 \"/>\n<text text-anchor=\"middle\" x=\"483.5\" y=\"-69.8\" font-family=\"Times,serif\" font-size=\"14.00\">data 0.0000</text>\n<polyline fill=\"none\" stroke=\"black\" points=\"534.5,-55.5 534.5,-91.5 \"/>\n<text text-anchor=\"middle\" x=\"586.5\" y=\"-69.8\" font-family=\"Times,serif\" font-size=\"14.00\">grad 0.5000</text>\n</g>\n<!-- 140122244165792+ -->\n<g id=\"node9\" class=\"node\">\n<title>140122244165792+</title>\n<ellipse fill=\"none\" stroke=\"black\" cx=\"704\" cy=\"-100.5\" rx=\"27\" ry=\"18\"/>\n<text text-anchor=\"middle\" x=\"704\" y=\"-96.8\" font-family=\"Times,serif\" font-size=\"14.00\">+</text>\n</g>\n<!-- 140122244167712&#45;&gt;140122244165792+ -->\n<g id=\"edge13\" class=\"edge\">\n<title>140122244167712&#45;&gt;140122244165792+</title>\n<path fill=\"none\" stroke=\"black\" d=\"M638.4,-91.51C648.78,-92.95 658.6,-94.32 667.3,-95.53\"/>\n<polygon fill=\"black\" stroke=\"black\" points=\"666.94,-99.01 677.32,-96.93 667.9,-92.08 666.94,-99.01\"/>\n</g>\n<!-- 140122244167712* -->\n<g id=\"node3\" class=\"node\">\n<title>140122244167712*</title>\n<ellipse fill=\"none\" stroke=\"black\" cx=\"312\" cy=\"-73.5\" rx=\"27\" ry=\"18\"/>\n<text text-anchor=\"middle\" x=\"312\" y=\"-69.8\" font-family=\"Times,serif\" font-size=\"14.00\">*</text>\n</g>\n<!-- 140122244167712*&#45;&gt;140122244167712 -->\n<g id=\"edge1\" class=\"edge\">\n<title>140122244167712*&#45;&gt;140122244167712</title>\n<path fill=\"none\" stroke=\"black\" d=\"M339.16,-73.5C347.24,-73.5 356.75,-73.5 367.07,-73.5\"/>\n<polygon fill=\"black\" stroke=\"black\" points=\"367.2,-77 377.2,-73.5 367.2,-70 367.2,-77\"/>\n</g>\n<!-- 140122243840032 -->\n<g id=\"node4\" class=\"node\">\n<title>140122243840032</title>\n<polygon fill=\"none\" stroke=\"black\" points=\"4.5,-55.5 4.5,-91.5 244.5,-91.5 244.5,-55.5 4.5,-55.5\"/>\n<text text-anchor=\"middle\" x=\"21.5\" y=\"-69.8\" font-family=\"Times,serif\" font-size=\"14.00\">x2</text>\n<polyline fill=\"none\" stroke=\"black\" points=\"38.5,-55.5 38.5,-91.5 \"/>\n<text text-anchor=\"middle\" x=\"89.5\" y=\"-69.8\" font-family=\"Times,serif\" font-size=\"14.00\">data 0.0000</text>\n<polyline fill=\"none\" stroke=\"black\" points=\"140.5,-55.5 140.5,-91.5 \"/>\n<text text-anchor=\"middle\" x=\"192.5\" y=\"-69.8\" font-family=\"Times,serif\" font-size=\"14.00\">grad 0.0000</text>\n</g>\n<!-- 140122243840032&#45;&gt;140122244167712* -->\n<g id=\"edge8\" class=\"edge\">\n<title>140122243840032&#45;&gt;140122244167712*</title>\n<path fill=\"none\" stroke=\"black\" d=\"M244.55,-73.5C255.31,-73.5 265.54,-73.5 274.62,-73.5\"/>\n<polygon fill=\"black\" stroke=\"black\" points=\"274.7,-77 284.7,-73.5 274.7,-70 274.7,-77\"/>\n</g>\n<!-- 140122243814496 -->\n<g id=\"node5\" class=\"node\">\n<title>140122243814496</title>\n<polygon fill=\"none\" stroke=\"black\" points=\"803,-27.5 803,-63.5 1035,-63.5 1035,-27.5 803,-27.5\"/>\n<text text-anchor=\"middle\" x=\"816\" y=\"-41.8\" font-family=\"Times,serif\" font-size=\"14.00\">b</text>\n<polyline fill=\"none\" stroke=\"black\" points=\"829,-27.5 829,-63.5 \"/>\n<text text-anchor=\"middle\" x=\"880\" y=\"-41.8\" font-family=\"Times,serif\" font-size=\"14.00\">data 6.8814</text>\n<polyline fill=\"none\" stroke=\"black\" points=\"931,-27.5 931,-63.5 \"/>\n<text text-anchor=\"middle\" x=\"983\" y=\"-41.8\" font-family=\"Times,serif\" font-size=\"14.00\">grad 0.5000</text>\n</g>\n<!-- 140122243285488+ -->\n<g id=\"node15\" class=\"node\">\n<title>140122243285488+</title>\n<ellipse fill=\"none\" stroke=\"black\" cx=\"1134\" cy=\"-72.5\" rx=\"27\" ry=\"18\"/>\n<text text-anchor=\"middle\" x=\"1134\" y=\"-68.8\" font-family=\"Times,serif\" font-size=\"14.00\">+</text>\n</g>\n<!-- 140122243814496&#45;&gt;140122243285488+ -->\n<g id=\"edge11\" class=\"edge\">\n<title>140122243814496&#45;&gt;140122243285488+</title>\n<path fill=\"none\" stroke=\"black\" d=\"M1035.23,-60.11C1057.63,-62.95 1079.52,-65.72 1096.88,-67.92\"/>\n<polygon fill=\"black\" stroke=\"black\" points=\"1096.71,-71.43 1107.08,-69.21 1097.59,-64.48 1096.71,-71.43\"/>\n</g>\n<!-- 140122242161824 -->\n<g id=\"node6\" class=\"node\">\n<title>140122242161824</title>\n<polygon fill=\"none\" stroke=\"black\" points=\"1564.69,-54.5 1564.69,-90.5 1795.69,-90.5 1795.69,-54.5 1564.69,-54.5\"/>\n<text text-anchor=\"middle\" x=\"1577.19\" y=\"-68.8\" font-family=\"Times,serif\" font-size=\"14.00\">o</text>\n<polyline fill=\"none\" stroke=\"black\" points=\"1589.69,-54.5 1589.69,-90.5 \"/>\n<text text-anchor=\"middle\" x=\"1640.69\" y=\"-68.8\" font-family=\"Times,serif\" font-size=\"14.00\">data 0.7071</text>\n<polyline fill=\"none\" stroke=\"black\" points=\"1691.69,-54.5 1691.69,-90.5 \"/>\n<text text-anchor=\"middle\" x=\"1743.69\" y=\"-68.8\" font-family=\"Times,serif\" font-size=\"14.00\">grad 1.0000</text>\n</g>\n<!-- 140122242161824tanh -->\n<g id=\"node7\" class=\"node\">\n<title>140122242161824tanh</title>\n<ellipse fill=\"none\" stroke=\"black\" cx=\"1496.85\" cy=\"-72.5\" rx=\"31.7\" ry=\"18\"/>\n<text text-anchor=\"middle\" x=\"1496.85\" y=\"-68.8\" font-family=\"Times,serif\" font-size=\"14.00\">tanh</text>\n</g>\n<!-- 140122242161824tanh&#45;&gt;140122242161824 -->\n<g id=\"edge2\" class=\"edge\">\n<title>140122242161824tanh&#45;&gt;140122242161824</title>\n<path fill=\"none\" stroke=\"black\" d=\"M1529.02,-72.5C1536.61,-72.5 1545.19,-72.5 1554.31,-72.5\"/>\n<polygon fill=\"black\" stroke=\"black\" points=\"1554.4,-76 1564.4,-72.5 1554.4,-69 1554.4,-76\"/>\n</g>\n<!-- 140122244165792 -->\n<g id=\"node8\" class=\"node\">\n<title>140122244165792</title>\n<polygon fill=\"none\" stroke=\"black\" points=\"767,-82.5 767,-118.5 1071,-118.5 1071,-82.5 767,-82.5\"/>\n<text text-anchor=\"middle\" x=\"813.5\" y=\"-96.8\" font-family=\"Times,serif\" font-size=\"14.00\">x1w1x2w2</text>\n<polyline fill=\"none\" stroke=\"black\" points=\"860,-82.5 860,-118.5 \"/>\n<text text-anchor=\"middle\" x=\"913.5\" y=\"-96.8\" font-family=\"Times,serif\" font-size=\"14.00\">data &#45;6.0000</text>\n<polyline fill=\"none\" stroke=\"black\" points=\"967,-82.5 967,-118.5 \"/>\n<text text-anchor=\"middle\" x=\"1019\" y=\"-96.8\" font-family=\"Times,serif\" font-size=\"14.00\">grad 0.5000</text>\n</g>\n<!-- 140122244165792&#45;&gt;140122243285488+ -->\n<g id=\"edge9\" class=\"edge\">\n<title>140122244165792&#45;&gt;140122243285488+</title>\n<path fill=\"none\" stroke=\"black\" d=\"M1057,-82.49C1071.6,-80.57 1085.35,-78.76 1097.05,-77.23\"/>\n<polygon fill=\"black\" stroke=\"black\" points=\"1097.71,-80.67 1107.17,-75.9 1096.8,-73.73 1097.71,-80.67\"/>\n</g>\n<!-- 140122244165792+&#45;&gt;140122244165792 -->\n<g id=\"edge3\" class=\"edge\">\n<title>140122244165792+&#45;&gt;140122244165792</title>\n<path fill=\"none\" stroke=\"black\" d=\"M731.12,-100.5C738.54,-100.5 747.2,-100.5 756.66,-100.5\"/>\n<polygon fill=\"black\" stroke=\"black\" points=\"756.79,-104 766.79,-100.5 756.79,-97 756.79,-104\"/>\n</g>\n<!-- 140122243816944 -->\n<g id=\"node10\" class=\"node\">\n<title>140122243816944</title>\n<polygon fill=\"none\" stroke=\"black\" points=\"2.5,-0.5 2.5,-36.5 246.5,-36.5 246.5,-0.5 2.5,-0.5\"/>\n<text text-anchor=\"middle\" x=\"21.5\" y=\"-14.8\" font-family=\"Times,serif\" font-size=\"14.00\">w2</text>\n<polyline fill=\"none\" stroke=\"black\" points=\"40.5,-0.5 40.5,-36.5 \"/>\n<text text-anchor=\"middle\" x=\"91.5\" y=\"-14.8\" font-family=\"Times,serif\" font-size=\"14.00\">data 1.0000</text>\n<polyline fill=\"none\" stroke=\"black\" points=\"142.5,-0.5 142.5,-36.5 \"/>\n<text text-anchor=\"middle\" x=\"194.5\" y=\"-14.8\" font-family=\"Times,serif\" font-size=\"14.00\">grad 0.0000</text>\n</g>\n<!-- 140122243816944&#45;&gt;140122244167712* -->\n<g id=\"edge14\" class=\"edge\">\n<title>140122243816944&#45;&gt;140122244167712*</title>\n<path fill=\"none\" stroke=\"black\" d=\"M214.42,-36.55C226.15,-39.54 237.93,-42.87 249,-46.5 259.46,-49.93 270.57,-54.47 280.46,-58.84\"/>\n<polygon fill=\"black\" stroke=\"black\" points=\"279.31,-62.17 289.87,-63.12 282.21,-55.79 279.31,-62.17\"/>\n</g>\n<!-- 140122243814208 -->\n<g id=\"node11\" class=\"node\">\n<title>140122243814208</title>\n<polygon fill=\"none\" stroke=\"black\" points=\"4.5,-110.5 4.5,-146.5 244.5,-146.5 244.5,-110.5 4.5,-110.5\"/>\n<text text-anchor=\"middle\" x=\"21.5\" y=\"-124.8\" font-family=\"Times,serif\" font-size=\"14.00\">x1</text>\n<polyline fill=\"none\" stroke=\"black\" points=\"38.5,-110.5 38.5,-146.5 \"/>\n<text text-anchor=\"middle\" x=\"89.5\" y=\"-124.8\" font-family=\"Times,serif\" font-size=\"14.00\">data 2.0000</text>\n<polyline fill=\"none\" stroke=\"black\" points=\"140.5,-110.5 140.5,-146.5 \"/>\n<text text-anchor=\"middle\" x=\"192.5\" y=\"-124.8\" font-family=\"Times,serif\" font-size=\"14.00\">grad 0.0000</text>\n</g>\n<!-- 140122243814208&#45;&gt;140122241914240* -->\n<g id=\"edge12\" class=\"edge\">\n<title>140122243814208&#45;&gt;140122241914240*</title>\n<path fill=\"none\" stroke=\"black\" d=\"M244.55,-128.5C255.31,-128.5 265.54,-128.5 274.62,-128.5\"/>\n<polygon fill=\"black\" stroke=\"black\" points=\"274.7,-132 284.7,-128.5 274.7,-125 274.7,-132\"/>\n</g>\n<!-- 140122241914240 -->\n<g id=\"node12\" class=\"node\">\n<title>140122241914240</title>\n<polygon fill=\"none\" stroke=\"black\" points=\"375,-110.5 375,-146.5 641,-146.5 641,-110.5 375,-110.5\"/>\n<text text-anchor=\"middle\" x=\"402.5\" y=\"-124.8\" font-family=\"Times,serif\" font-size=\"14.00\">x1w1</text>\n<polyline fill=\"none\" stroke=\"black\" points=\"430,-110.5 430,-146.5 \"/>\n<text text-anchor=\"middle\" x=\"483.5\" y=\"-124.8\" font-family=\"Times,serif\" font-size=\"14.00\">data &#45;6.0000</text>\n<polyline fill=\"none\" stroke=\"black\" points=\"537,-110.5 537,-146.5 \"/>\n<text text-anchor=\"middle\" x=\"589\" y=\"-124.8\" font-family=\"Times,serif\" font-size=\"14.00\">grad 0.5000</text>\n</g>\n<!-- 140122241914240&#45;&gt;140122244165792+ -->\n<g id=\"edge6\" class=\"edge\">\n<title>140122241914240&#45;&gt;140122244165792+</title>\n<path fill=\"none\" stroke=\"black\" d=\"M633.78,-110.49C645.77,-108.76 657.15,-107.12 667.08,-105.68\"/>\n<polygon fill=\"black\" stroke=\"black\" points=\"667.86,-109.11 677.25,-104.22 666.86,-102.18 667.86,-109.11\"/>\n</g>\n<!-- 140122241914240*&#45;&gt;140122241914240 -->\n<g id=\"edge4\" class=\"edge\">\n<title>140122241914240*&#45;&gt;140122241914240</title>\n<path fill=\"none\" stroke=\"black\" d=\"M339.16,-128.5C346.61,-128.5 355.28,-128.5 364.68,-128.5\"/>\n<polygon fill=\"black\" stroke=\"black\" points=\"364.73,-132 374.73,-128.5 364.73,-125 364.73,-132\"/>\n</g>\n<!-- 140122243285488 -->\n<g id=\"node14\" class=\"node\">\n<title>140122243285488</title>\n<polygon fill=\"none\" stroke=\"black\" points=\"1197,-54.5 1197,-90.5 1429,-90.5 1429,-54.5 1197,-54.5\"/>\n<text text-anchor=\"middle\" x=\"1210\" y=\"-68.8\" font-family=\"Times,serif\" font-size=\"14.00\">n</text>\n<polyline fill=\"none\" stroke=\"black\" points=\"1223,-54.5 1223,-90.5 \"/>\n<text text-anchor=\"middle\" x=\"1274\" y=\"-68.8\" font-family=\"Times,serif\" font-size=\"14.00\">data 0.8814</text>\n<polyline fill=\"none\" stroke=\"black\" points=\"1325,-54.5 1325,-90.5 \"/>\n<text text-anchor=\"middle\" x=\"1377\" y=\"-68.8\" font-family=\"Times,serif\" font-size=\"14.00\">grad 0.5000</text>\n</g>\n<!-- 140122243285488&#45;&gt;140122242161824tanh -->\n<g id=\"edge7\" class=\"edge\">\n<title>140122243285488&#45;&gt;140122242161824tanh</title>\n<path fill=\"none\" stroke=\"black\" d=\"M1429.17,-72.5C1438.08,-72.5 1446.66,-72.5 1454.53,-72.5\"/>\n<polygon fill=\"black\" stroke=\"black\" points=\"1454.78,-76 1464.78,-72.5 1454.78,-69 1454.78,-76\"/>\n</g>\n<!-- 140122243285488+&#45;&gt;140122243285488 -->\n<g id=\"edge5\" class=\"edge\">\n<title>140122243285488+&#45;&gt;140122243285488</title>\n<path fill=\"none\" stroke=\"black\" d=\"M1161.12,-72.5C1168.53,-72.5 1177.14,-72.5 1186.4,-72.5\"/>\n<polygon fill=\"black\" stroke=\"black\" points=\"1186.69,-76 1196.69,-72.5 1186.69,-69 1186.69,-76\"/>\n</g>\n</g>\n</svg>\n",
      "text/plain": [
       "<graphviz.graphs.Digraph at 0x7f70c06e6880>"
      ]
     },
     "execution_count": 8,
     "metadata": {},
     "output_type": "execute_result"
    }
   ],
   "source": [
    "draw_dot(o)"
   ]
  },
  {
   "attachments": {},
   "cell_type": "markdown",
   "metadata": {},
   "source": [
    "For clarity will post the class again below. We will modify it so that we don't have to manually call backward() every time. \n",
    "\n",
    "We have to do a forward pass and then we want to automatically go backward through the expression. In order to do that, we need to have the order of operations correct, i.e. if d is made of b and c, we need to calculate the gradient of d first before b and c (in the backpropagation order). This ordering can be achieved using topological sort. The topological sort orders the graph so that all the edges only go from left to right. DAG. "
   ]
  },
  {
   "cell_type": "code",
   "execution_count": 14,
   "metadata": {},
   "outputs": [
    {
     "data": {
      "text/plain": [
       "[Value(data=6.881373587019543),\n",
       " Value(data=0.0),\n",
       " Value(data=1.0),\n",
       " Value(data=0.0),\n",
       " Value(data=2.0),\n",
       " Value(data=-3.0),\n",
       " Value(data=-6.0),\n",
       " Value(data=-6.0),\n",
       " Value(data=0.8813735870195432),\n",
       " Value(data=0.7071067811865476)]"
      ]
     },
     "execution_count": 14,
     "metadata": {},
     "output_type": "execute_result"
    }
   ],
   "source": [
    "# Build a topological graph - starting from w1 and x1. \n",
    "# It starts at o, adds all the children, and then adds itself. \n",
    "topo = []\n",
    "visited = set()\n",
    "def build_topo(v):\n",
    "    if v not in visited:\n",
    "        visited.add(v)\n",
    "        for child in v._prev:\n",
    "            build_topo(child)\n",
    "        topo.append(v)\n",
    "\n",
    "build_topo(o)\n",
    "topo"
   ]
  },
  {
   "cell_type": "code",
   "execution_count": 15,
   "metadata": {},
   "outputs": [],
   "source": [
    "# We need it to go in reversed order\n",
    "for node in reversed(topo):\n",
    "    node._backward()"
   ]
  },
  {
   "cell_type": "code",
   "execution_count": 27,
   "metadata": {},
   "outputs": [],
   "source": [
    "# Edit the class so that we have a proper backward method\n",
    "\n",
    "class Value:\n",
    "\n",
    "    def __init__(self, data, _children=(), _op='', label=''):\n",
    "        self.data = data\n",
    "        self.grad = 0.0\n",
    "        self._backward = lambda: None\n",
    "        self._prev = set(_children) # In a set for efficiency (?)\n",
    "        self._op = _op\n",
    "        self.label = label\n",
    "\n",
    "    # This is in order to return a nice string rather than the location of object in memory\n",
    "    def __repr__(self):\n",
    "        return f\"Value(data={self.data})\"\n",
    "    \n",
    "    # In order to add 2 Value objects together\n",
    "    def __add__(self, other): \n",
    "        out = Value(self.data + other.data, (self, other), '+')\n",
    "\n",
    "        def _backward():\n",
    "            self.grad += 1.0 * out.grad\n",
    "            other.grad += 1.0 * out.grad \n",
    "        out._backward = _backward\n",
    "\n",
    "        return out\n",
    "    \n",
    "    # In order to multiply 2 Value objects together\n",
    "    def __mul__(self, other):\n",
    "        out = Value(self.data * other.data, (self, other), '*')\n",
    "\n",
    "        def _backward():\n",
    "            self.grad += other.grad * out.grad\n",
    "            other.grad += self.grad * out.grad\n",
    "        out._backward = _backward\n",
    "\n",
    "        return out\n",
    "    \n",
    "    def tanh(self):\n",
    "        x = self.data\n",
    "        t = (np.exp(2 * x) - 1) / (np.exp(2 * x) + 1)\n",
    "        out = Value(t, (self, ), 'tanh')\n",
    "\n",
    "        def _backward():\n",
    "            self.grad += (1 - t**2) * out.grad\n",
    "        out._backward = _backward\n",
    "\n",
    "        return out\n",
    "    \n",
    "    def backward(self):\n",
    "        topo = []\n",
    "        visited = set()\n",
    "        def build_topo(v):\n",
    "            if v not in visited:\n",
    "                visited.add(v)\n",
    "            for child in v._prev:\n",
    "                build_topo(child)\n",
    "            topo.append(v)\n",
    "        build_topo(self)\n",
    "\n",
    "        self.grad = 1.0\n",
    "        for node in reversed(topo):\n",
    "            node._backward()"
   ]
  },
  {
   "cell_type": "code",
   "execution_count": 19,
   "metadata": {},
   "outputs": [
    {
     "data": {
      "image/svg+xml": "<?xml version=\"1.0\" encoding=\"UTF-8\" standalone=\"no\"?>\n<!DOCTYPE svg PUBLIC \"-//W3C//DTD SVG 1.1//EN\"\n \"http://www.w3.org/Graphics/SVG/1.1/DTD/svg11.dtd\">\n<!-- Generated by graphviz version 2.50.0 (0)\n -->\n<!-- Pages: 1 -->\n<svg width=\"1804pt\" height=\"210pt\"\n viewBox=\"0.00 0.00 1803.69 210.00\" xmlns=\"http://www.w3.org/2000/svg\" xmlns:xlink=\"http://www.w3.org/1999/xlink\">\n<g id=\"graph0\" class=\"graph\" transform=\"scale(1 1) rotate(0) translate(4 206)\">\n<polygon fill=\"white\" stroke=\"transparent\" points=\"-4,4 -4,-206 1799.69,-206 1799.69,4 -4,4\"/>\n<!-- 140122243571872 -->\n<g id=\"node1\" class=\"node\">\n<title>140122243571872</title>\n<polygon fill=\"none\" stroke=\"black\" points=\"4.5,-165.5 4.5,-201.5 244.5,-201.5 244.5,-165.5 4.5,-165.5\"/>\n<text text-anchor=\"middle\" x=\"21.5\" y=\"-179.8\" font-family=\"Times,serif\" font-size=\"14.00\">x2</text>\n<polyline fill=\"none\" stroke=\"black\" points=\"38.5,-165.5 38.5,-201.5 \"/>\n<text text-anchor=\"middle\" x=\"89.5\" y=\"-179.8\" font-family=\"Times,serif\" font-size=\"14.00\">data 0.0000</text>\n<polyline fill=\"none\" stroke=\"black\" points=\"140.5,-165.5 140.5,-201.5 \"/>\n<text text-anchor=\"middle\" x=\"192.5\" y=\"-179.8\" font-family=\"Times,serif\" font-size=\"14.00\">grad 0.0000</text>\n</g>\n<!-- 140122243992784* -->\n<g id=\"node5\" class=\"node\">\n<title>140122243992784*</title>\n<ellipse fill=\"none\" stroke=\"black\" cx=\"312\" cy=\"-128.5\" rx=\"27\" ry=\"18\"/>\n<text text-anchor=\"middle\" x=\"312\" y=\"-124.8\" font-family=\"Times,serif\" font-size=\"14.00\">*</text>\n</g>\n<!-- 140122243571872&#45;&gt;140122243992784* -->\n<g id=\"edge9\" class=\"edge\">\n<title>140122243571872&#45;&gt;140122243992784*</title>\n<path fill=\"none\" stroke=\"black\" d=\"M218.13,-165.46C228.63,-162.77 239.1,-159.78 249,-156.5 259.71,-152.96 271.05,-148.16 281.07,-143.54\"/>\n<polygon fill=\"black\" stroke=\"black\" points=\"282.67,-146.66 290.2,-139.21 279.67,-140.33 282.67,-146.66\"/>\n</g>\n<!-- 140122243575664 -->\n<g id=\"node2\" class=\"node\">\n<title>140122243575664</title>\n<polygon fill=\"none\" stroke=\"black\" points=\"4.5,-55.5 4.5,-91.5 244.5,-91.5 244.5,-55.5 4.5,-55.5\"/>\n<text text-anchor=\"middle\" x=\"21.5\" y=\"-69.8\" font-family=\"Times,serif\" font-size=\"14.00\">x1</text>\n<polyline fill=\"none\" stroke=\"black\" points=\"38.5,-55.5 38.5,-91.5 \"/>\n<text text-anchor=\"middle\" x=\"89.5\" y=\"-69.8\" font-family=\"Times,serif\" font-size=\"14.00\">data 2.0000</text>\n<polyline fill=\"none\" stroke=\"black\" points=\"140.5,-55.5 140.5,-91.5 \"/>\n<text text-anchor=\"middle\" x=\"192.5\" y=\"-69.8\" font-family=\"Times,serif\" font-size=\"14.00\">grad 0.0000</text>\n</g>\n<!-- 140122243992448* -->\n<g id=\"node12\" class=\"node\">\n<title>140122243992448*</title>\n<ellipse fill=\"none\" stroke=\"black\" cx=\"312\" cy=\"-73.5\" rx=\"27\" ry=\"18\"/>\n<text text-anchor=\"middle\" x=\"312\" y=\"-69.8\" font-family=\"Times,serif\" font-size=\"14.00\">*</text>\n</g>\n<!-- 140122243575664&#45;&gt;140122243992448* -->\n<g id=\"edge11\" class=\"edge\">\n<title>140122243575664&#45;&gt;140122243992448*</title>\n<path fill=\"none\" stroke=\"black\" d=\"M244.55,-73.5C255.31,-73.5 265.54,-73.5 274.62,-73.5\"/>\n<polygon fill=\"black\" stroke=\"black\" points=\"274.7,-77 284.7,-73.5 274.7,-70 274.7,-77\"/>\n</g>\n<!-- 140122243575472 -->\n<g id=\"node3\" class=\"node\">\n<title>140122243575472</title>\n<polygon fill=\"none\" stroke=\"black\" points=\"2.5,-110.5 2.5,-146.5 246.5,-146.5 246.5,-110.5 2.5,-110.5\"/>\n<text text-anchor=\"middle\" x=\"21.5\" y=\"-124.8\" font-family=\"Times,serif\" font-size=\"14.00\">w2</text>\n<polyline fill=\"none\" stroke=\"black\" points=\"40.5,-110.5 40.5,-146.5 \"/>\n<text text-anchor=\"middle\" x=\"91.5\" y=\"-124.8\" font-family=\"Times,serif\" font-size=\"14.00\">data 1.0000</text>\n<polyline fill=\"none\" stroke=\"black\" points=\"142.5,-110.5 142.5,-146.5 \"/>\n<text text-anchor=\"middle\" x=\"194.5\" y=\"-124.8\" font-family=\"Times,serif\" font-size=\"14.00\">grad 0.0000</text>\n</g>\n<!-- 140122243575472&#45;&gt;140122243992784* -->\n<g id=\"edge10\" class=\"edge\">\n<title>140122243575472&#45;&gt;140122243992784*</title>\n<path fill=\"none\" stroke=\"black\" d=\"M246.64,-128.5C256.7,-128.5 266.26,-128.5 274.79,-128.5\"/>\n<polygon fill=\"black\" stroke=\"black\" points=\"275,-132 285,-128.5 275,-125 275,-132\"/>\n</g>\n<!-- 140122243992784 -->\n<g id=\"node4\" class=\"node\">\n<title>140122243992784</title>\n<polygon fill=\"none\" stroke=\"black\" points=\"377.5,-110.5 377.5,-146.5 638.5,-146.5 638.5,-110.5 377.5,-110.5\"/>\n<text text-anchor=\"middle\" x=\"405\" y=\"-124.8\" font-family=\"Times,serif\" font-size=\"14.00\">x2w2</text>\n<polyline fill=\"none\" stroke=\"black\" points=\"432.5,-110.5 432.5,-146.5 \"/>\n<text text-anchor=\"middle\" x=\"483.5\" y=\"-124.8\" font-family=\"Times,serif\" font-size=\"14.00\">data 0.0000</text>\n<polyline fill=\"none\" stroke=\"black\" points=\"534.5,-110.5 534.5,-146.5 \"/>\n<text text-anchor=\"middle\" x=\"586.5\" y=\"-124.8\" font-family=\"Times,serif\" font-size=\"14.00\">grad 0.5000</text>\n</g>\n<!-- 140122243448256+ -->\n<g id=\"node14\" class=\"node\">\n<title>140122243448256+</title>\n<ellipse fill=\"none\" stroke=\"black\" cx=\"704\" cy=\"-100.5\" rx=\"27\" ry=\"18\"/>\n<text text-anchor=\"middle\" x=\"704\" y=\"-96.8\" font-family=\"Times,serif\" font-size=\"14.00\">+</text>\n</g>\n<!-- 140122243992784&#45;&gt;140122243448256+ -->\n<g id=\"edge7\" class=\"edge\">\n<title>140122243992784&#45;&gt;140122243448256+</title>\n<path fill=\"none\" stroke=\"black\" d=\"M633.78,-110.49C645.77,-108.76 657.15,-107.12 667.08,-105.68\"/>\n<polygon fill=\"black\" stroke=\"black\" points=\"667.86,-109.11 677.25,-104.22 666.86,-102.18 667.86,-109.11\"/>\n</g>\n<!-- 140122243992784*&#45;&gt;140122243992784 -->\n<g id=\"edge1\" class=\"edge\">\n<title>140122243992784*&#45;&gt;140122243992784</title>\n<path fill=\"none\" stroke=\"black\" d=\"M339.16,-128.5C347.24,-128.5 356.75,-128.5 367.07,-128.5\"/>\n<polygon fill=\"black\" stroke=\"black\" points=\"367.2,-132 377.2,-128.5 367.2,-125 367.2,-132\"/>\n</g>\n<!-- 140122241569024 -->\n<g id=\"node6\" class=\"node\">\n<title>140122241569024</title>\n<polygon fill=\"none\" stroke=\"black\" points=\"1197,-54.5 1197,-90.5 1429,-90.5 1429,-54.5 1197,-54.5\"/>\n<text text-anchor=\"middle\" x=\"1210\" y=\"-68.8\" font-family=\"Times,serif\" font-size=\"14.00\">n</text>\n<polyline fill=\"none\" stroke=\"black\" points=\"1223,-54.5 1223,-90.5 \"/>\n<text text-anchor=\"middle\" x=\"1274\" y=\"-68.8\" font-family=\"Times,serif\" font-size=\"14.00\">data 0.8814</text>\n<polyline fill=\"none\" stroke=\"black\" points=\"1325,-54.5 1325,-90.5 \"/>\n<text text-anchor=\"middle\" x=\"1377\" y=\"-68.8\" font-family=\"Times,serif\" font-size=\"14.00\">grad 0.5000</text>\n</g>\n<!-- 140122241572720tanh -->\n<g id=\"node10\" class=\"node\">\n<title>140122241572720tanh</title>\n<ellipse fill=\"none\" stroke=\"black\" cx=\"1496.85\" cy=\"-72.5\" rx=\"31.7\" ry=\"18\"/>\n<text text-anchor=\"middle\" x=\"1496.85\" y=\"-68.8\" font-family=\"Times,serif\" font-size=\"14.00\">tanh</text>\n</g>\n<!-- 140122241569024&#45;&gt;140122241572720tanh -->\n<g id=\"edge14\" class=\"edge\">\n<title>140122241569024&#45;&gt;140122241572720tanh</title>\n<path fill=\"none\" stroke=\"black\" d=\"M1429.17,-72.5C1438.08,-72.5 1446.66,-72.5 1454.53,-72.5\"/>\n<polygon fill=\"black\" stroke=\"black\" points=\"1454.78,-76 1464.78,-72.5 1454.78,-69 1454.78,-76\"/>\n</g>\n<!-- 140122241569024+ -->\n<g id=\"node7\" class=\"node\">\n<title>140122241569024+</title>\n<ellipse fill=\"none\" stroke=\"black\" cx=\"1134\" cy=\"-72.5\" rx=\"27\" ry=\"18\"/>\n<text text-anchor=\"middle\" x=\"1134\" y=\"-68.8\" font-family=\"Times,serif\" font-size=\"14.00\">+</text>\n</g>\n<!-- 140122241569024+&#45;&gt;140122241569024 -->\n<g id=\"edge2\" class=\"edge\">\n<title>140122241569024+&#45;&gt;140122241569024</title>\n<path fill=\"none\" stroke=\"black\" d=\"M1161.12,-72.5C1168.53,-72.5 1177.14,-72.5 1186.4,-72.5\"/>\n<polygon fill=\"black\" stroke=\"black\" points=\"1186.69,-76 1196.69,-72.5 1186.69,-69 1186.69,-76\"/>\n</g>\n<!-- 140122243575088 -->\n<g id=\"node8\" class=\"node\">\n<title>140122243575088</title>\n<polygon fill=\"none\" stroke=\"black\" points=\"0,-0.5 0,-36.5 249,-36.5 249,-0.5 0,-0.5\"/>\n<text text-anchor=\"middle\" x=\"19\" y=\"-14.8\" font-family=\"Times,serif\" font-size=\"14.00\">w1</text>\n<polyline fill=\"none\" stroke=\"black\" points=\"38,-0.5 38,-36.5 \"/>\n<text text-anchor=\"middle\" x=\"91.5\" y=\"-14.8\" font-family=\"Times,serif\" font-size=\"14.00\">data &#45;3.0000</text>\n<polyline fill=\"none\" stroke=\"black\" points=\"145,-0.5 145,-36.5 \"/>\n<text text-anchor=\"middle\" x=\"197\" y=\"-14.8\" font-family=\"Times,serif\" font-size=\"14.00\">grad 0.0000</text>\n</g>\n<!-- 140122243575088&#45;&gt;140122243992448* -->\n<g id=\"edge6\" class=\"edge\">\n<title>140122243575088&#45;&gt;140122243992448*</title>\n<path fill=\"none\" stroke=\"black\" d=\"M214.42,-36.55C226.15,-39.54 237.93,-42.87 249,-46.5 259.46,-49.93 270.57,-54.47 280.46,-58.84\"/>\n<polygon fill=\"black\" stroke=\"black\" points=\"279.31,-62.17 289.87,-63.12 282.21,-55.79 279.31,-62.17\"/>\n</g>\n<!-- 140122241572720 -->\n<g id=\"node9\" class=\"node\">\n<title>140122241572720</title>\n<polygon fill=\"none\" stroke=\"black\" points=\"1564.69,-54.5 1564.69,-90.5 1795.69,-90.5 1795.69,-54.5 1564.69,-54.5\"/>\n<text text-anchor=\"middle\" x=\"1577.19\" y=\"-68.8\" font-family=\"Times,serif\" font-size=\"14.00\">o</text>\n<polyline fill=\"none\" stroke=\"black\" points=\"1589.69,-54.5 1589.69,-90.5 \"/>\n<text text-anchor=\"middle\" x=\"1640.69\" y=\"-68.8\" font-family=\"Times,serif\" font-size=\"14.00\">data 0.7071</text>\n<polyline fill=\"none\" stroke=\"black\" points=\"1691.69,-54.5 1691.69,-90.5 \"/>\n<text text-anchor=\"middle\" x=\"1743.69\" y=\"-68.8\" font-family=\"Times,serif\" font-size=\"14.00\">grad 1.0000</text>\n</g>\n<!-- 140122241572720tanh&#45;&gt;140122241572720 -->\n<g id=\"edge3\" class=\"edge\">\n<title>140122241572720tanh&#45;&gt;140122241572720</title>\n<path fill=\"none\" stroke=\"black\" d=\"M1529.02,-72.5C1536.61,-72.5 1545.19,-72.5 1554.31,-72.5\"/>\n<polygon fill=\"black\" stroke=\"black\" points=\"1554.4,-76 1564.4,-72.5 1554.4,-69 1554.4,-76\"/>\n</g>\n<!-- 140122243992448 -->\n<g id=\"node11\" class=\"node\">\n<title>140122243992448</title>\n<polygon fill=\"none\" stroke=\"black\" points=\"375,-55.5 375,-91.5 641,-91.5 641,-55.5 375,-55.5\"/>\n<text text-anchor=\"middle\" x=\"402.5\" y=\"-69.8\" font-family=\"Times,serif\" font-size=\"14.00\">x1w1</text>\n<polyline fill=\"none\" stroke=\"black\" points=\"430,-55.5 430,-91.5 \"/>\n<text text-anchor=\"middle\" x=\"483.5\" y=\"-69.8\" font-family=\"Times,serif\" font-size=\"14.00\">data &#45;6.0000</text>\n<polyline fill=\"none\" stroke=\"black\" points=\"537,-55.5 537,-91.5 \"/>\n<text text-anchor=\"middle\" x=\"589\" y=\"-69.8\" font-family=\"Times,serif\" font-size=\"14.00\">grad 0.5000</text>\n</g>\n<!-- 140122243992448&#45;&gt;140122243448256+ -->\n<g id=\"edge12\" class=\"edge\">\n<title>140122243992448&#45;&gt;140122243448256+</title>\n<path fill=\"none\" stroke=\"black\" d=\"M638.4,-91.51C648.78,-92.95 658.6,-94.32 667.3,-95.53\"/>\n<polygon fill=\"black\" stroke=\"black\" points=\"666.94,-99.01 677.32,-96.93 667.9,-92.08 666.94,-99.01\"/>\n</g>\n<!-- 140122243992448*&#45;&gt;140122243992448 -->\n<g id=\"edge4\" class=\"edge\">\n<title>140122243992448*&#45;&gt;140122243992448</title>\n<path fill=\"none\" stroke=\"black\" d=\"M339.16,-73.5C346.61,-73.5 355.28,-73.5 364.68,-73.5\"/>\n<polygon fill=\"black\" stroke=\"black\" points=\"364.73,-77 374.73,-73.5 364.73,-70 364.73,-77\"/>\n</g>\n<!-- 140122243448256 -->\n<g id=\"node13\" class=\"node\">\n<title>140122243448256</title>\n<polygon fill=\"none\" stroke=\"black\" points=\"767,-82.5 767,-118.5 1071,-118.5 1071,-82.5 767,-82.5\"/>\n<text text-anchor=\"middle\" x=\"813.5\" y=\"-96.8\" font-family=\"Times,serif\" font-size=\"14.00\">x1w1x2w2</text>\n<polyline fill=\"none\" stroke=\"black\" points=\"860,-82.5 860,-118.5 \"/>\n<text text-anchor=\"middle\" x=\"913.5\" y=\"-96.8\" font-family=\"Times,serif\" font-size=\"14.00\">data &#45;6.0000</text>\n<polyline fill=\"none\" stroke=\"black\" points=\"967,-82.5 967,-118.5 \"/>\n<text text-anchor=\"middle\" x=\"1019\" y=\"-96.8\" font-family=\"Times,serif\" font-size=\"14.00\">grad 0.5000</text>\n</g>\n<!-- 140122243448256&#45;&gt;140122241569024+ -->\n<g id=\"edge8\" class=\"edge\">\n<title>140122243448256&#45;&gt;140122241569024+</title>\n<path fill=\"none\" stroke=\"black\" d=\"M1057,-82.49C1071.6,-80.57 1085.35,-78.76 1097.05,-77.23\"/>\n<polygon fill=\"black\" stroke=\"black\" points=\"1097.71,-80.67 1107.17,-75.9 1096.8,-73.73 1097.71,-80.67\"/>\n</g>\n<!-- 140122243448256+&#45;&gt;140122243448256 -->\n<g id=\"edge5\" class=\"edge\">\n<title>140122243448256+&#45;&gt;140122243448256</title>\n<path fill=\"none\" stroke=\"black\" d=\"M731.12,-100.5C738.54,-100.5 747.2,-100.5 756.66,-100.5\"/>\n<polygon fill=\"black\" stroke=\"black\" points=\"756.79,-104 766.79,-100.5 756.79,-97 756.79,-104\"/>\n</g>\n<!-- 140122243575280 -->\n<g id=\"node15\" class=\"node\">\n<title>140122243575280</title>\n<polygon fill=\"none\" stroke=\"black\" points=\"803,-27.5 803,-63.5 1035,-63.5 1035,-27.5 803,-27.5\"/>\n<text text-anchor=\"middle\" x=\"816\" y=\"-41.8\" font-family=\"Times,serif\" font-size=\"14.00\">b</text>\n<polyline fill=\"none\" stroke=\"black\" points=\"829,-27.5 829,-63.5 \"/>\n<text text-anchor=\"middle\" x=\"880\" y=\"-41.8\" font-family=\"Times,serif\" font-size=\"14.00\">data 6.8814</text>\n<polyline fill=\"none\" stroke=\"black\" points=\"931,-27.5 931,-63.5 \"/>\n<text text-anchor=\"middle\" x=\"983\" y=\"-41.8\" font-family=\"Times,serif\" font-size=\"14.00\">grad 0.5000</text>\n</g>\n<!-- 140122243575280&#45;&gt;140122241569024+ -->\n<g id=\"edge13\" class=\"edge\">\n<title>140122243575280&#45;&gt;140122241569024+</title>\n<path fill=\"none\" stroke=\"black\" d=\"M1035.23,-60.11C1057.63,-62.95 1079.52,-65.72 1096.88,-67.92\"/>\n<polygon fill=\"black\" stroke=\"black\" points=\"1096.71,-71.43 1107.08,-69.21 1097.59,-64.48 1096.71,-71.43\"/>\n</g>\n</g>\n</svg>\n",
      "text/plain": [
       "<graphviz.graphs.Digraph at 0x7f70c08bbfd0>"
      ]
     },
     "execution_count": 19,
     "metadata": {},
     "output_type": "execute_result"
    }
   ],
   "source": [
    "# Gradients added in one step - except for inputs and weights?\n",
    "o.backward()\n",
    "draw_dot(o)"
   ]
  },
  {
   "attachments": {},
   "cell_type": "markdown",
   "metadata": {},
   "source": [
    "#### Fixing a bug\n",
    "\n",
    "A bug arises in specific conditions. The plot below is incorrect. The forward pass works - b = a + a. But the gradient db/da is not 1, it would be 2 (1 + 1). \n",
    "\n",
    "What's happening is in the _backward method, self.grad in this case is set to 1.0, as is other.grad. Because we're doing a + a, self and other are actually the exact same object. We are overriding the gradient - setting it to 1, and then again to 1. This is why it stays at 1. So if we use a variable more than once, we have a problem during the backward pass. \n",
    "\n",
    "The solution is that we have to add the gradients, not set them. So we change self.grad to += other.grad * out.grad (and the same for other.grad)."
   ]
  },
  {
   "cell_type": "code",
   "execution_count": 26,
   "metadata": {},
   "outputs": [
    {
     "data": {
      "image/svg+xml": "<?xml version=\"1.0\" encoding=\"UTF-8\" standalone=\"no\"?>\n<!DOCTYPE svg PUBLIC \"-//W3C//DTD SVG 1.1//EN\"\n \"http://www.w3.org/Graphics/SVG/1.1/DTD/svg11.dtd\">\n<!-- Generated by graphviz version 2.50.0 (0)\n -->\n<!-- Pages: 1 -->\n<svg width=\"597pt\" height=\"45pt\"\n viewBox=\"0.00 0.00 597.00 45.00\" xmlns=\"http://www.w3.org/2000/svg\" xmlns:xlink=\"http://www.w3.org/1999/xlink\">\n<g id=\"graph0\" class=\"graph\" transform=\"scale(1 1) rotate(0) translate(4 41)\">\n<polygon fill=\"white\" stroke=\"transparent\" points=\"-4,4 -4,-41 593,-41 593,4 -4,4\"/>\n<!-- 140122244301200 -->\n<g id=\"node1\" class=\"node\">\n<title>140122244301200</title>\n<polygon fill=\"none\" stroke=\"black\" points=\"0,-0.5 0,-36.5 231,-36.5 231,-0.5 0,-0.5\"/>\n<text text-anchor=\"middle\" x=\"12.5\" y=\"-14.8\" font-family=\"Times,serif\" font-size=\"14.00\">a</text>\n<polyline fill=\"none\" stroke=\"black\" points=\"25,-0.5 25,-36.5 \"/>\n<text text-anchor=\"middle\" x=\"76\" y=\"-14.8\" font-family=\"Times,serif\" font-size=\"14.00\">data 3.0000</text>\n<polyline fill=\"none\" stroke=\"black\" points=\"127,-0.5 127,-36.5 \"/>\n<text text-anchor=\"middle\" x=\"179\" y=\"-14.8\" font-family=\"Times,serif\" font-size=\"14.00\">grad 1.0000</text>\n</g>\n<!-- 140122244300912+ -->\n<g id=\"node3\" class=\"node\">\n<title>140122244300912+</title>\n<ellipse fill=\"none\" stroke=\"black\" cx=\"294\" cy=\"-18.5\" rx=\"27\" ry=\"18\"/>\n<text text-anchor=\"middle\" x=\"294\" y=\"-14.8\" font-family=\"Times,serif\" font-size=\"14.00\">+</text>\n</g>\n<!-- 140122244301200&#45;&gt;140122244300912+ -->\n<g id=\"edge2\" class=\"edge\">\n<title>140122244301200&#45;&gt;140122244300912+</title>\n<path fill=\"none\" stroke=\"black\" d=\"M231.27,-18.5C240.32,-18.5 248.97,-18.5 256.76,-18.5\"/>\n<polygon fill=\"black\" stroke=\"black\" points=\"256.84,-22 266.84,-18.5 256.84,-15 256.84,-22\"/>\n</g>\n<!-- 140122244300912 -->\n<g id=\"node2\" class=\"node\">\n<title>140122244300912</title>\n<polygon fill=\"none\" stroke=\"black\" points=\"357,-0.5 357,-36.5 589,-36.5 589,-0.5 357,-0.5\"/>\n<text text-anchor=\"middle\" x=\"370\" y=\"-14.8\" font-family=\"Times,serif\" font-size=\"14.00\">b</text>\n<polyline fill=\"none\" stroke=\"black\" points=\"383,-0.5 383,-36.5 \"/>\n<text text-anchor=\"middle\" x=\"434\" y=\"-14.8\" font-family=\"Times,serif\" font-size=\"14.00\">data 6.0000</text>\n<polyline fill=\"none\" stroke=\"black\" points=\"485,-0.5 485,-36.5 \"/>\n<text text-anchor=\"middle\" x=\"537\" y=\"-14.8\" font-family=\"Times,serif\" font-size=\"14.00\">grad 1.0000</text>\n</g>\n<!-- 140122244300912+&#45;&gt;140122244300912 -->\n<g id=\"edge1\" class=\"edge\">\n<title>140122244300912+&#45;&gt;140122244300912</title>\n<path fill=\"none\" stroke=\"black\" d=\"M321.12,-18.5C328.53,-18.5 337.14,-18.5 346.4,-18.5\"/>\n<polygon fill=\"black\" stroke=\"black\" points=\"346.69,-22 356.69,-18.5 346.69,-15 346.69,-22\"/>\n</g>\n</g>\n</svg>\n",
      "text/plain": [
       "<graphviz.graphs.Digraph at 0x7f70c098c250>"
      ]
     },
     "execution_count": 26,
     "metadata": {},
     "output_type": "execute_result"
    }
   ],
   "source": [
    "# Incorrect\n",
    "a = Value(3.0, label='a')\n",
    "b = a + a; b.label='b'\n",
    "b.backward()\n",
    "draw_dot(b)"
   ]
  },
  {
   "cell_type": "code",
   "execution_count": 24,
   "metadata": {},
   "outputs": [
    {
     "data": {
      "image/svg+xml": "<?xml version=\"1.0\" encoding=\"UTF-8\" standalone=\"no\"?>\n<!DOCTYPE svg PUBLIC \"-//W3C//DTD SVG 1.1//EN\"\n \"http://www.w3.org/Graphics/SVG/1.1/DTD/svg11.dtd\">\n<!-- Generated by graphviz version 2.50.0 (0)\n -->\n<!-- Pages: 1 -->\n<svg width=\"597pt\" height=\"45pt\"\n viewBox=\"0.00 0.00 597.00 45.00\" xmlns=\"http://www.w3.org/2000/svg\" xmlns:xlink=\"http://www.w3.org/1999/xlink\">\n<g id=\"graph0\" class=\"graph\" transform=\"scale(1 1) rotate(0) translate(4 41)\">\n<polygon fill=\"white\" stroke=\"transparent\" points=\"-4,4 -4,-41 593,-41 593,4 -4,4\"/>\n<!-- 140122244018032 -->\n<g id=\"node1\" class=\"node\">\n<title>140122244018032</title>\n<polygon fill=\"none\" stroke=\"black\" points=\"0,-0.5 0,-36.5 231,-36.5 231,-0.5 0,-0.5\"/>\n<text text-anchor=\"middle\" x=\"12.5\" y=\"-14.8\" font-family=\"Times,serif\" font-size=\"14.00\">a</text>\n<polyline fill=\"none\" stroke=\"black\" points=\"25,-0.5 25,-36.5 \"/>\n<text text-anchor=\"middle\" x=\"76\" y=\"-14.8\" font-family=\"Times,serif\" font-size=\"14.00\">data 3.0000</text>\n<polyline fill=\"none\" stroke=\"black\" points=\"127,-0.5 127,-36.5 \"/>\n<text text-anchor=\"middle\" x=\"179\" y=\"-14.8\" font-family=\"Times,serif\" font-size=\"14.00\">grad 2.0000</text>\n</g>\n<!-- 140122244015728+ -->\n<g id=\"node3\" class=\"node\">\n<title>140122244015728+</title>\n<ellipse fill=\"none\" stroke=\"black\" cx=\"294\" cy=\"-18.5\" rx=\"27\" ry=\"18\"/>\n<text text-anchor=\"middle\" x=\"294\" y=\"-14.8\" font-family=\"Times,serif\" font-size=\"14.00\">+</text>\n</g>\n<!-- 140122244018032&#45;&gt;140122244015728+ -->\n<g id=\"edge2\" class=\"edge\">\n<title>140122244018032&#45;&gt;140122244015728+</title>\n<path fill=\"none\" stroke=\"black\" d=\"M231.27,-18.5C240.32,-18.5 248.97,-18.5 256.76,-18.5\"/>\n<polygon fill=\"black\" stroke=\"black\" points=\"256.84,-22 266.84,-18.5 256.84,-15 256.84,-22\"/>\n</g>\n<!-- 140122244015728 -->\n<g id=\"node2\" class=\"node\">\n<title>140122244015728</title>\n<polygon fill=\"none\" stroke=\"black\" points=\"357,-0.5 357,-36.5 589,-36.5 589,-0.5 357,-0.5\"/>\n<text text-anchor=\"middle\" x=\"370\" y=\"-14.8\" font-family=\"Times,serif\" font-size=\"14.00\">b</text>\n<polyline fill=\"none\" stroke=\"black\" points=\"383,-0.5 383,-36.5 \"/>\n<text text-anchor=\"middle\" x=\"434\" y=\"-14.8\" font-family=\"Times,serif\" font-size=\"14.00\">data 6.0000</text>\n<polyline fill=\"none\" stroke=\"black\" points=\"485,-0.5 485,-36.5 \"/>\n<text text-anchor=\"middle\" x=\"537\" y=\"-14.8\" font-family=\"Times,serif\" font-size=\"14.00\">grad 1.0000</text>\n</g>\n<!-- 140122244015728+&#45;&gt;140122244015728 -->\n<g id=\"edge1\" class=\"edge\">\n<title>140122244015728+&#45;&gt;140122244015728</title>\n<path fill=\"none\" stroke=\"black\" d=\"M321.12,-18.5C328.53,-18.5 337.14,-18.5 346.4,-18.5\"/>\n<polygon fill=\"black\" stroke=\"black\" points=\"346.69,-22 356.69,-18.5 346.69,-15 346.69,-22\"/>\n</g>\n</g>\n</svg>\n",
      "text/plain": [
       "<graphviz.graphs.Digraph at 0x7f70c0946c70>"
      ]
     },
     "execution_count": 24,
     "metadata": {},
     "output_type": "execute_result"
    }
   ],
   "source": [
    "# Correct\n",
    "a = Value(3.0, label='a')\n",
    "b = a + a; b.label='b'\n",
    "b.backward()\n",
    "draw_dot(b)"
   ]
  },
  {
   "attachments": {},
   "cell_type": "markdown",
   "metadata": {},
   "source": [
    "#### Breaking up a tanh\n",
    "\n",
    "We could have broken up the tanh into its components rather than than implementing a tanh method. We will do that now in order to practice.\n",
    "\n",
    "So below:\n",
    "* Modified addition and multiplication methods so that ordering of values passed doesn't matter\n",
    "* Exponentiation method implemented\n",
    "* Division method implemented - but a more powerful method of division. a / b is equivalent to a * (1 / b) and a * b^-1. So Karpathy prefers to implement a method for a^k. This needs to be differentiable. As a special case, k = -1 will be division. This implementation is more general than just a simple division.\n",
    "* __pow__ method. The power rule says that the local derivative of ax^n is n * ax^n-1. We then multiply by out.grad to apply the chain rule."
   ]
  },
  {
   "cell_type": "code",
   "execution_count": 39,
   "metadata": {},
   "outputs": [],
   "source": [
    "class Value:\n",
    "\n",
    "    def __init__(self, data, _children=(), _op='', label=''):\n",
    "        self.data = data\n",
    "        self.grad = 0.0\n",
    "        self._backward = lambda: None\n",
    "        self._prev = set(_children) # In a set for efficiency (?)\n",
    "        self._op = _op\n",
    "        self.label = label\n",
    "\n",
    "    # This is in order to return a nice string rather than the location of object in memory\n",
    "    def __repr__(self):\n",
    "        return f\"Value(data={self.data})\"\n",
    "    \n",
    "    # In order to add 2 Value objects together\n",
    "    def __add__(self, other): \n",
    "        other = other if isinstance(other, Value) else Value(other) # allows addition with non-Value objects\n",
    "        out = Value(self.data + other.data, (self, other), '+')\n",
    "\n",
    "        def _backward():\n",
    "            self.grad += 1.0 * out.grad\n",
    "            other.grad += 1.0 * out.grad \n",
    "        out._backward = _backward\n",
    "\n",
    "        return out\n",
    "    \n",
    "    # In order to multiply 2 Value objects together\n",
    "    def __mul__(self, other):\n",
    "        other = other if isinstance(other, Value) else Value(other) # allows multiplication with non-Value objects\n",
    "        out = Value(self.data * other.data, (self, other), '*')\n",
    "\n",
    "        def _backward():\n",
    "            self.grad += other.grad * out.grad\n",
    "            other.grad += self.grad * out.grad\n",
    "        out._backward = _backward\n",
    "\n",
    "        return out\n",
    "    \n",
    "    # Raise to a power\n",
    "    def __pow__(self, other):\n",
    "        assert isinstance(other, (int, float)), \"Only supporting int/float powers\"\n",
    "        out = Value(np.power(self.data, other), (self, ), f'^{other}')\n",
    "\n",
    "        def _backward():\n",
    "            self.grad += other * (self.data ** (other - 1)) * out.grad\n",
    "        out._backward = _backward\n",
    "\n",
    "        return out\n",
    "    \n",
    "    # other * self\n",
    "    def __rmul__(self, other):\n",
    "        return self * other\n",
    "    \n",
    "    # Division\n",
    "    def __truediv__(self, other):\n",
    "        return self * other**-1\n",
    "    \n",
    "    # Negation\n",
    "    def __neg__(self):\n",
    "        return self * -1\n",
    "\n",
    "    # Subtraction (addition by a negation)\n",
    "    def __sub__(self, other):\n",
    "        return self + (-other)\n",
    "    \n",
    "    def tanh(self):\n",
    "        x = self.data\n",
    "        t = (np.exp(2 * x) - 1) / (np.exp(2 * x) + 1)\n",
    "        out = Value(t, (self, ), 'tanh')\n",
    "\n",
    "        def _backward():\n",
    "            self.grad += (1 - t**2) * out.grad\n",
    "        out._backward = _backward\n",
    "\n",
    "        return out\n",
    "    \n",
    "    def exp(self):\n",
    "        x = self.data\n",
    "        out = Value(np.exp(x), (self, ), 'exp')\n",
    "\n",
    "        def _backward():\n",
    "            self.grad += out.data * out.grad\n",
    "        self._backward = _backward\n",
    "\n",
    "        return out\n",
    "    \n",
    "    def backward(self):\n",
    "        topo = []\n",
    "        visited = set()\n",
    "        def build_topo(v):\n",
    "            if v not in visited:\n",
    "                visited.add(v)\n",
    "            for child in v._prev:\n",
    "                build_topo(child)\n",
    "            topo.append(v)\n",
    "        build_topo(self)\n",
    "\n",
    "        self.grad = 1.0\n",
    "        for node in reversed(topo):\n",
    "            node._backward()"
   ]
  },
  {
   "cell_type": "code",
   "execution_count": 34,
   "metadata": {},
   "outputs": [
    {
     "name": "stdout",
     "output_type": "stream",
     "text": [
      "Value(data=3.0)\n",
      "Value(data=4.0)\n",
      "Value(data=24.0)\n",
      "Value(data=7.38905609893065)\n",
      "Value(data=0.5)\n",
      "Value(data=-2.0)\n"
     ]
    }
   ],
   "source": [
    "# Now can operate with non-Value objects\n",
    "print(Value(2.0) + 1)\n",
    "print(Value(2.0 * 2))\n",
    "print(4 * Value(6.0))\n",
    "\n",
    "a = Value(2.0)\n",
    "print(a.exp())\n",
    "\n",
    "b = Value(4.0)\n",
    "print(a / b)\n",
    "\n",
    "print(a - b)"
   ]
  },
  {
   "cell_type": "code",
   "execution_count": 41,
   "metadata": {},
   "outputs": [
    {
     "data": {
      "image/svg+xml": "<?xml version=\"1.0\" encoding=\"UTF-8\" standalone=\"no\"?>\n<!DOCTYPE svg PUBLIC \"-//W3C//DTD SVG 1.1//EN\"\n \"http://www.w3.org/Graphics/SVG/1.1/DTD/svg11.dtd\">\n<!-- Generated by graphviz version 2.50.0 (0)\n -->\n<!-- Pages: 1 -->\n<svg width=\"3385pt\" height=\"210pt\"\n viewBox=\"0.00 0.00 3384.60 210.00\" xmlns=\"http://www.w3.org/2000/svg\" xmlns:xlink=\"http://www.w3.org/1999/xlink\">\n<g id=\"graph0\" class=\"graph\" transform=\"scale(1 1) rotate(0) translate(4 206)\">\n<polygon fill=\"white\" stroke=\"transparent\" points=\"-4,4 -4,-206 3380.6,-206 3380.6,4 -4,4\"/>\n<!-- 139967672764448 -->\n<g id=\"node1\" class=\"node\">\n<title>139967672764448</title>\n<polygon fill=\"none\" stroke=\"black\" points=\"1911.1,-136.5 1911.1,-172.5 2138.1,-172.5 2138.1,-136.5 1911.1,-136.5\"/>\n<text text-anchor=\"middle\" x=\"1921.6\" y=\"-150.8\" font-family=\"Times,serif\" font-size=\"14.00\"> </text>\n<polyline fill=\"none\" stroke=\"black\" points=\"1932.1,-136.5 1932.1,-172.5 \"/>\n<text text-anchor=\"middle\" x=\"1983.1\" y=\"-150.8\" font-family=\"Times,serif\" font-size=\"14.00\">data 1.0000</text>\n<polyline fill=\"none\" stroke=\"black\" points=\"2034.1,-136.5 2034.1,-172.5 \"/>\n<text text-anchor=\"middle\" x=\"2086.1\" y=\"-150.8\" font-family=\"Times,serif\" font-size=\"14.00\">grad 0.0000</text>\n</g>\n<!-- 139967672764688+ -->\n<g id=\"node17\" class=\"node\">\n<title>139967672764688+</title>\n<ellipse fill=\"none\" stroke=\"black\" cx=\"2203.6\" cy=\"-126.5\" rx=\"27\" ry=\"18\"/>\n<text text-anchor=\"middle\" x=\"2203.6\" y=\"-122.8\" font-family=\"Times,serif\" font-size=\"14.00\">+</text>\n</g>\n<!-- 139967672764448&#45;&gt;139967672764688+ -->\n<g id=\"edge26\" class=\"edge\">\n<title>139967672764448&#45;&gt;139967672764688+</title>\n<path fill=\"none\" stroke=\"black\" d=\"M2138.19,-136.69C2148.47,-135.06 2158.28,-133.51 2167,-132.13\"/>\n<polygon fill=\"black\" stroke=\"black\" points=\"2167.73,-135.56 2177.06,-130.54 2166.64,-128.64 2167.73,-135.56\"/>\n</g>\n<!-- 139967672764496 -->\n<g id=\"node2\" class=\"node\">\n<title>139967672764496</title>\n<polygon fill=\"none\" stroke=\"black\" points=\"2529.6,-53.5 2529.6,-89.5 2756.6,-89.5 2756.6,-53.5 2529.6,-53.5\"/>\n<text text-anchor=\"middle\" x=\"2540.1\" y=\"-67.8\" font-family=\"Times,serif\" font-size=\"14.00\"> </text>\n<polyline fill=\"none\" stroke=\"black\" points=\"2550.6,-53.5 2550.6,-89.5 \"/>\n<text text-anchor=\"middle\" x=\"2601.6\" y=\"-67.8\" font-family=\"Times,serif\" font-size=\"14.00\">data 4.8284</text>\n<polyline fill=\"none\" stroke=\"black\" points=\"2652.6,-53.5 2652.6,-89.5 \"/>\n<text text-anchor=\"middle\" x=\"2704.6\" y=\"-67.8\" font-family=\"Times,serif\" font-size=\"14.00\">grad 0.0000</text>\n</g>\n<!-- 139967672765648* -->\n<g id=\"node12\" class=\"node\">\n<title>139967672765648*</title>\n<ellipse fill=\"none\" stroke=\"black\" cx=\"3082.6\" cy=\"-98.5\" rx=\"27\" ry=\"18\"/>\n<text text-anchor=\"middle\" x=\"3082.6\" y=\"-94.8\" font-family=\"Times,serif\" font-size=\"14.00\">*</text>\n</g>\n<!-- 139967672764496&#45;&gt;139967672765648* -->\n<g id=\"edge21\" class=\"edge\">\n<title>139967672764496&#45;&gt;139967672765648*</title>\n<path fill=\"none\" stroke=\"black\" d=\"M2756.76,-78.45C2852.02,-84.33 2982.68,-92.4 3045.28,-96.26\"/>\n<polygon fill=\"black\" stroke=\"black\" points=\"3045.24,-99.76 3055.44,-96.89 3045.68,-92.78 3045.24,-99.76\"/>\n</g>\n<!-- 139967672764496+ -->\n<g id=\"node3\" class=\"node\">\n<title>139967672764496+</title>\n<ellipse fill=\"none\" stroke=\"black\" cx=\"2203.6\" cy=\"-71.5\" rx=\"27\" ry=\"18\"/>\n<text text-anchor=\"middle\" x=\"2203.6\" y=\"-67.8\" font-family=\"Times,serif\" font-size=\"14.00\">+</text>\n</g>\n<!-- 139967672764496+&#45;&gt;139967672764496 -->\n<g id=\"edge1\" class=\"edge\">\n<title>139967672764496+&#45;&gt;139967672764496</title>\n<path fill=\"none\" stroke=\"black\" d=\"M2230.65,-71.5C2286.23,-71.5 2419.48,-71.5 2519.39,-71.5\"/>\n<polygon fill=\"black\" stroke=\"black\" points=\"2519.56,-75 2529.56,-71.5 2519.56,-68 2519.56,-75\"/>\n</g>\n<!-- 139967673463424 -->\n<g id=\"node4\" class=\"node\">\n<title>139967673463424</title>\n<polygon fill=\"none\" stroke=\"black\" points=\"767,-82.5 767,-118.5 1071,-118.5 1071,-82.5 767,-82.5\"/>\n<text text-anchor=\"middle\" x=\"813.5\" y=\"-96.8\" font-family=\"Times,serif\" font-size=\"14.00\">x1w1x2w2</text>\n<polyline fill=\"none\" stroke=\"black\" points=\"860,-82.5 860,-118.5 \"/>\n<text text-anchor=\"middle\" x=\"913.5\" y=\"-96.8\" font-family=\"Times,serif\" font-size=\"14.00\">data &#45;6.0000</text>\n<polyline fill=\"none\" stroke=\"black\" points=\"967,-82.5 967,-118.5 \"/>\n<text text-anchor=\"middle\" x=\"1019\" y=\"-96.8\" font-family=\"Times,serif\" font-size=\"14.00\">grad 0.0000</text>\n</g>\n<!-- 139967673463184+ -->\n<g id=\"node23\" class=\"node\">\n<title>139967673463184+</title>\n<ellipse fill=\"none\" stroke=\"black\" cx=\"1134\" cy=\"-72.5\" rx=\"27\" ry=\"18\"/>\n<text text-anchor=\"middle\" x=\"1134\" y=\"-68.8\" font-family=\"Times,serif\" font-size=\"14.00\">+</text>\n</g>\n<!-- 139967673463424&#45;&gt;139967673463184+ -->\n<g id=\"edge24\" class=\"edge\">\n<title>139967673463424&#45;&gt;139967673463184+</title>\n<path fill=\"none\" stroke=\"black\" d=\"M1057,-82.49C1071.6,-80.57 1085.35,-78.76 1097.05,-77.23\"/>\n<polygon fill=\"black\" stroke=\"black\" points=\"1097.71,-80.67 1107.17,-75.9 1096.8,-73.73 1097.71,-80.67\"/>\n</g>\n<!-- 139967673463424+ -->\n<g id=\"node5\" class=\"node\">\n<title>139967673463424+</title>\n<ellipse fill=\"none\" stroke=\"black\" cx=\"704\" cy=\"-100.5\" rx=\"27\" ry=\"18\"/>\n<text text-anchor=\"middle\" x=\"704\" y=\"-96.8\" font-family=\"Times,serif\" font-size=\"14.00\">+</text>\n</g>\n<!-- 139967673463424+&#45;&gt;139967673463424 -->\n<g id=\"edge2\" class=\"edge\">\n<title>139967673463424+&#45;&gt;139967673463424</title>\n<path fill=\"none\" stroke=\"black\" d=\"M731.12,-100.5C738.54,-100.5 747.2,-100.5 756.66,-100.5\"/>\n<polygon fill=\"black\" stroke=\"black\" points=\"756.79,-104 766.79,-100.5 756.79,-97 756.79,-104\"/>\n</g>\n<!-- 139967672704640 -->\n<g id=\"node6\" class=\"node\">\n<title>139967672704640</title>\n<polygon fill=\"none\" stroke=\"black\" points=\"2.5,-165.5 2.5,-201.5 246.5,-201.5 246.5,-165.5 2.5,-165.5\"/>\n<text text-anchor=\"middle\" x=\"21.5\" y=\"-179.8\" font-family=\"Times,serif\" font-size=\"14.00\">w2</text>\n<polyline fill=\"none\" stroke=\"black\" points=\"40.5,-165.5 40.5,-201.5 \"/>\n<text text-anchor=\"middle\" x=\"91.5\" y=\"-179.8\" font-family=\"Times,serif\" font-size=\"14.00\">data 1.0000</text>\n<polyline fill=\"none\" stroke=\"black\" points=\"142.5,-165.5 142.5,-201.5 \"/>\n<text text-anchor=\"middle\" x=\"194.5\" y=\"-179.8\" font-family=\"Times,serif\" font-size=\"14.00\">grad 0.0000</text>\n</g>\n<!-- 139967673464480* -->\n<g id=\"node8\" class=\"node\">\n<title>139967673464480*</title>\n<ellipse fill=\"none\" stroke=\"black\" cx=\"312\" cy=\"-128.5\" rx=\"27\" ry=\"18\"/>\n<text text-anchor=\"middle\" x=\"312\" y=\"-124.8\" font-family=\"Times,serif\" font-size=\"14.00\">*</text>\n</g>\n<!-- 139967672704640&#45;&gt;139967673464480* -->\n<g id=\"edge20\" class=\"edge\">\n<title>139967672704640&#45;&gt;139967673464480*</title>\n<path fill=\"none\" stroke=\"black\" d=\"M218.13,-165.46C228.63,-162.77 239.1,-159.78 249,-156.5 259.71,-152.96 271.05,-148.16 281.07,-143.54\"/>\n<polygon fill=\"black\" stroke=\"black\" points=\"282.67,-146.66 290.2,-139.21 279.67,-140.33 282.67,-146.66\"/>\n</g>\n<!-- 139967673464480 -->\n<g id=\"node7\" class=\"node\">\n<title>139967673464480</title>\n<polygon fill=\"none\" stroke=\"black\" points=\"377.5,-110.5 377.5,-146.5 638.5,-146.5 638.5,-110.5 377.5,-110.5\"/>\n<text text-anchor=\"middle\" x=\"405\" y=\"-124.8\" font-family=\"Times,serif\" font-size=\"14.00\">x2w2</text>\n<polyline fill=\"none\" stroke=\"black\" points=\"432.5,-110.5 432.5,-146.5 \"/>\n<text text-anchor=\"middle\" x=\"483.5\" y=\"-124.8\" font-family=\"Times,serif\" font-size=\"14.00\">data 0.0000</text>\n<polyline fill=\"none\" stroke=\"black\" points=\"534.5,-110.5 534.5,-146.5 \"/>\n<text text-anchor=\"middle\" x=\"586.5\" y=\"-124.8\" font-family=\"Times,serif\" font-size=\"14.00\">grad 0.0000</text>\n</g>\n<!-- 139967673464480&#45;&gt;139967673463424+ -->\n<g id=\"edge17\" class=\"edge\">\n<title>139967673464480&#45;&gt;139967673463424+</title>\n<path fill=\"none\" stroke=\"black\" d=\"M633.78,-110.49C645.77,-108.76 657.15,-107.12 667.08,-105.68\"/>\n<polygon fill=\"black\" stroke=\"black\" points=\"667.86,-109.11 677.25,-104.22 666.86,-102.18 667.86,-109.11\"/>\n</g>\n<!-- 139967673464480*&#45;&gt;139967673464480 -->\n<g id=\"edge3\" class=\"edge\">\n<title>139967673464480*&#45;&gt;139967673464480</title>\n<path fill=\"none\" stroke=\"black\" d=\"M339.16,-128.5C347.24,-128.5 356.75,-128.5 367.07,-128.5\"/>\n<polygon fill=\"black\" stroke=\"black\" points=\"367.2,-132 377.2,-128.5 367.2,-125 367.2,-132\"/>\n</g>\n<!-- 139967672703632 -->\n<g id=\"node9\" class=\"node\">\n<title>139967672703632</title>\n<polygon fill=\"none\" stroke=\"black\" points=\"0,-55.5 0,-91.5 249,-91.5 249,-55.5 0,-55.5\"/>\n<text text-anchor=\"middle\" x=\"19\" y=\"-69.8\" font-family=\"Times,serif\" font-size=\"14.00\">w1</text>\n<polyline fill=\"none\" stroke=\"black\" points=\"38,-55.5 38,-91.5 \"/>\n<text text-anchor=\"middle\" x=\"91.5\" y=\"-69.8\" font-family=\"Times,serif\" font-size=\"14.00\">data &#45;3.0000</text>\n<polyline fill=\"none\" stroke=\"black\" points=\"145,-55.5 145,-91.5 \"/>\n<text text-anchor=\"middle\" x=\"197\" y=\"-69.8\" font-family=\"Times,serif\" font-size=\"14.00\">grad 0.0000</text>\n</g>\n<!-- 139967672702384* -->\n<g id=\"node26\" class=\"node\">\n<title>139967672702384*</title>\n<ellipse fill=\"none\" stroke=\"black\" cx=\"312\" cy=\"-73.5\" rx=\"27\" ry=\"18\"/>\n<text text-anchor=\"middle\" x=\"312\" y=\"-69.8\" font-family=\"Times,serif\" font-size=\"14.00\">*</text>\n</g>\n<!-- 139967672703632&#45;&gt;139967672702384* -->\n<g id=\"edge23\" class=\"edge\">\n<title>139967672703632&#45;&gt;139967672702384*</title>\n<path fill=\"none\" stroke=\"black\" d=\"M249.23,-73.5C258.37,-73.5 267.05,-73.5 274.87,-73.5\"/>\n<polygon fill=\"black\" stroke=\"black\" points=\"274.95,-77 284.95,-73.5 274.95,-70 274.95,-77\"/>\n</g>\n<!-- 139967672764592 -->\n<g id=\"node10\" class=\"node\">\n<title>139967672764592</title>\n<polygon fill=\"none\" stroke=\"black\" points=\"1908.6,-26.5 1908.6,-62.5 2140.6,-62.5 2140.6,-26.5 1908.6,-26.5\"/>\n<text text-anchor=\"middle\" x=\"1919.1\" y=\"-40.8\" font-family=\"Times,serif\" font-size=\"14.00\"> </text>\n<polyline fill=\"none\" stroke=\"black\" points=\"1929.6,-26.5 1929.6,-62.5 \"/>\n<text text-anchor=\"middle\" x=\"1983.1\" y=\"-40.8\" font-family=\"Times,serif\" font-size=\"14.00\">data &#45;1.0000</text>\n<polyline fill=\"none\" stroke=\"black\" points=\"2036.6,-26.5 2036.6,-62.5 \"/>\n<text text-anchor=\"middle\" x=\"2088.6\" y=\"-40.8\" font-family=\"Times,serif\" font-size=\"14.00\">grad 0.0000</text>\n</g>\n<!-- 139967672764592&#45;&gt;139967672764496+ -->\n<g id=\"edge18\" class=\"edge\">\n<title>139967672764592&#45;&gt;139967672764496+</title>\n<path fill=\"none\" stroke=\"black\" d=\"M2140.69,-62.06C2150.05,-63.49 2158.98,-64.85 2167,-66.07\"/>\n<polygon fill=\"black\" stroke=\"black\" points=\"2166.55,-69.54 2176.96,-67.59 2167.61,-62.62 2166.55,-69.54\"/>\n</g>\n<!-- 139967672765648 -->\n<g id=\"node11\" class=\"node\">\n<title>139967672765648</title>\n<polygon fill=\"none\" stroke=\"black\" points=\"3145.6,-80.5 3145.6,-116.5 3376.6,-116.5 3376.6,-80.5 3145.6,-80.5\"/>\n<text text-anchor=\"middle\" x=\"3158.1\" y=\"-94.8\" font-family=\"Times,serif\" font-size=\"14.00\">o</text>\n<polyline fill=\"none\" stroke=\"black\" points=\"3170.6,-80.5 3170.6,-116.5 \"/>\n<text text-anchor=\"middle\" x=\"3221.6\" y=\"-94.8\" font-family=\"Times,serif\" font-size=\"14.00\">data 0.7071</text>\n<polyline fill=\"none\" stroke=\"black\" points=\"3272.6,-80.5 3272.6,-116.5 \"/>\n<text text-anchor=\"middle\" x=\"3324.6\" y=\"-94.8\" font-family=\"Times,serif\" font-size=\"14.00\">grad 1.0000</text>\n</g>\n<!-- 139967672765648*&#45;&gt;139967672765648 -->\n<g id=\"edge4\" class=\"edge\">\n<title>139967672765648*&#45;&gt;139967672765648</title>\n<path fill=\"none\" stroke=\"black\" d=\"M3109.64,-98.5C3117.18,-98.5 3125.96,-98.5 3135.41,-98.5\"/>\n<polygon fill=\"black\" stroke=\"black\" points=\"3135.49,-102 3145.49,-98.5 3135.49,-95 3135.49,-102\"/>\n</g>\n<!-- 139967672702192 -->\n<g id=\"node13\" class=\"node\">\n<title>139967672702192</title>\n<polygon fill=\"none\" stroke=\"black\" points=\"4.5,-110.5 4.5,-146.5 244.5,-146.5 244.5,-110.5 4.5,-110.5\"/>\n<text text-anchor=\"middle\" x=\"21.5\" y=\"-124.8\" font-family=\"Times,serif\" font-size=\"14.00\">x2</text>\n<polyline fill=\"none\" stroke=\"black\" points=\"38.5,-110.5 38.5,-146.5 \"/>\n<text text-anchor=\"middle\" x=\"89.5\" y=\"-124.8\" font-family=\"Times,serif\" font-size=\"14.00\">data 0.0000</text>\n<polyline fill=\"none\" stroke=\"black\" points=\"140.5,-110.5 140.5,-146.5 \"/>\n<text text-anchor=\"middle\" x=\"192.5\" y=\"-124.8\" font-family=\"Times,serif\" font-size=\"14.00\">grad 0.0000</text>\n</g>\n<!-- 139967672702192&#45;&gt;139967673464480* -->\n<g id=\"edge14\" class=\"edge\">\n<title>139967672702192&#45;&gt;139967673464480*</title>\n<path fill=\"none\" stroke=\"black\" d=\"M244.55,-128.5C255.31,-128.5 265.54,-128.5 274.62,-128.5\"/>\n<polygon fill=\"black\" stroke=\"black\" points=\"274.7,-132 284.7,-128.5 274.7,-125 274.7,-132\"/>\n</g>\n<!-- 139967672764160 -->\n<g id=\"node14\" class=\"node\">\n<title>139967672764160</title>\n<polygon fill=\"none\" stroke=\"black\" points=\"1911.1,-81.5 1911.1,-117.5 2138.1,-117.5 2138.1,-81.5 1911.1,-81.5\"/>\n<text text-anchor=\"middle\" x=\"1921.6\" y=\"-95.8\" font-family=\"Times,serif\" font-size=\"14.00\"> </text>\n<polyline fill=\"none\" stroke=\"black\" points=\"1932.1,-81.5 1932.1,-117.5 \"/>\n<text text-anchor=\"middle\" x=\"1983.1\" y=\"-95.8\" font-family=\"Times,serif\" font-size=\"14.00\">data 5.8284</text>\n<polyline fill=\"none\" stroke=\"black\" points=\"2034.1,-81.5 2034.1,-117.5 \"/>\n<text text-anchor=\"middle\" x=\"2086.1\" y=\"-95.8\" font-family=\"Times,serif\" font-size=\"14.00\">grad 0.0000</text>\n</g>\n<!-- 139967672764160&#45;&gt;139967672764496+ -->\n<g id=\"edge16\" class=\"edge\">\n<title>139967672764160&#45;&gt;139967672764496+</title>\n<path fill=\"none\" stroke=\"black\" d=\"M2138.19,-81.69C2148.47,-80.06 2158.28,-78.51 2167,-77.13\"/>\n<polygon fill=\"black\" stroke=\"black\" points=\"2167.73,-80.56 2177.06,-75.54 2166.64,-73.64 2167.73,-80.56\"/>\n</g>\n<!-- 139967672764160&#45;&gt;139967672764688+ -->\n<g id=\"edge19\" class=\"edge\">\n<title>139967672764160&#45;&gt;139967672764688+</title>\n<path fill=\"none\" stroke=\"black\" d=\"M2138.19,-116.68C2148.47,-118.24 2158.28,-119.74 2167,-121.07\"/>\n<polygon fill=\"black\" stroke=\"black\" points=\"2166.65,-124.56 2177.06,-122.61 2167.7,-117.64 2166.65,-124.56\"/>\n</g>\n<!-- 139967672764160exp -->\n<g id=\"node15\" class=\"node\">\n<title>139967672764160exp</title>\n<ellipse fill=\"none\" stroke=\"black\" cx=\"1845.3\" cy=\"-99.5\" rx=\"27.1\" ry=\"18\"/>\n<text text-anchor=\"middle\" x=\"1845.3\" y=\"-95.8\" font-family=\"Times,serif\" font-size=\"14.00\">exp</text>\n</g>\n<!-- 139967672764160exp&#45;&gt;139967672764160 -->\n<g id=\"edge5\" class=\"edge\">\n<title>139967672764160exp&#45;&gt;139967672764160</title>\n<path fill=\"none\" stroke=\"black\" d=\"M1872.84,-99.5C1880.97,-99.5 1890.49,-99.5 1900.74,-99.5\"/>\n<polygon fill=\"black\" stroke=\"black\" points=\"1900.76,-103 1910.76,-99.5 1900.76,-96 1900.76,-103\"/>\n</g>\n<!-- 139967672764688 -->\n<g id=\"node16\" class=\"node\">\n<title>139967672764688</title>\n<polygon fill=\"none\" stroke=\"black\" points=\"2266.6,-108.5 2266.6,-144.5 2493.6,-144.5 2493.6,-108.5 2266.6,-108.5\"/>\n<text text-anchor=\"middle\" x=\"2277.1\" y=\"-122.8\" font-family=\"Times,serif\" font-size=\"14.00\"> </text>\n<polyline fill=\"none\" stroke=\"black\" points=\"2287.6,-108.5 2287.6,-144.5 \"/>\n<text text-anchor=\"middle\" x=\"2338.6\" y=\"-122.8\" font-family=\"Times,serif\" font-size=\"14.00\">data 6.8284</text>\n<polyline fill=\"none\" stroke=\"black\" points=\"2389.6,-108.5 2389.6,-144.5 \"/>\n<text text-anchor=\"middle\" x=\"2441.6\" y=\"-122.8\" font-family=\"Times,serif\" font-size=\"14.00\">grad 0.0000</text>\n</g>\n<!-- 139967672765888^&#45;1 -->\n<g id=\"node28\" class=\"node\">\n<title>139967672765888^&#45;1</title>\n<ellipse fill=\"none\" stroke=\"black\" cx=\"2643.1\" cy=\"-126.5\" rx=\"27.1\" ry=\"18\"/>\n<text text-anchor=\"middle\" x=\"2643.1\" y=\"-122.8\" font-family=\"Times,serif\" font-size=\"14.00\">^&#45;1</text>\n</g>\n<!-- 139967672764688&#45;&gt;139967672765888^&#45;1 -->\n<g id=\"edge13\" class=\"edge\">\n<title>139967672764688&#45;&gt;139967672765888^&#45;1</title>\n<path fill=\"none\" stroke=\"black\" d=\"M2493.68,-126.5C2533.86,-126.5 2576.35,-126.5 2605.52,-126.5\"/>\n<polygon fill=\"black\" stroke=\"black\" points=\"2605.64,-130 2615.64,-126.5 2605.64,-123 2605.64,-130\"/>\n</g>\n<!-- 139967672764688+&#45;&gt;139967672764688 -->\n<g id=\"edge6\" class=\"edge\">\n<title>139967672764688+&#45;&gt;139967672764688</title>\n<path fill=\"none\" stroke=\"black\" d=\"M2230.72,-126.5C2238.27,-126.5 2247.05,-126.5 2256.49,-126.5\"/>\n<polygon fill=\"black\" stroke=\"black\" points=\"2256.55,-130 2266.55,-126.5 2256.55,-123 2256.55,-130\"/>\n</g>\n<!-- 139967673464576 -->\n<g id=\"node18\" class=\"node\">\n<title>139967673464576</title>\n<polygon fill=\"none\" stroke=\"black\" points=\"1555,-81.5 1555,-117.5 1782,-117.5 1782,-81.5 1555,-81.5\"/>\n<text text-anchor=\"middle\" x=\"1565.5\" y=\"-95.8\" font-family=\"Times,serif\" font-size=\"14.00\"> </text>\n<polyline fill=\"none\" stroke=\"black\" points=\"1576,-81.5 1576,-117.5 \"/>\n<text text-anchor=\"middle\" x=\"1627\" y=\"-95.8\" font-family=\"Times,serif\" font-size=\"14.00\">data 1.7627</text>\n<polyline fill=\"none\" stroke=\"black\" points=\"1678,-81.5 1678,-117.5 \"/>\n<text text-anchor=\"middle\" x=\"1730\" y=\"-95.8\" font-family=\"Times,serif\" font-size=\"14.00\">grad 0.0000</text>\n</g>\n<!-- 139967673464576&#45;&gt;139967672764160exp -->\n<g id=\"edge28\" class=\"edge\">\n<title>139967673464576&#45;&gt;139967672764160exp</title>\n<path fill=\"none\" stroke=\"black\" d=\"M1782.18,-99.5C1791.26,-99.5 1799.95,-99.5 1807.79,-99.5\"/>\n<polygon fill=\"black\" stroke=\"black\" points=\"1807.93,-103 1817.93,-99.5 1807.93,-96 1807.93,-103\"/>\n</g>\n<!-- 139967673464576* -->\n<g id=\"node19\" class=\"node\">\n<title>139967673464576*</title>\n<ellipse fill=\"none\" stroke=\"black\" cx=\"1492\" cy=\"-99.5\" rx=\"27\" ry=\"18\"/>\n<text text-anchor=\"middle\" x=\"1492\" y=\"-95.8\" font-family=\"Times,serif\" font-size=\"14.00\">*</text>\n</g>\n<!-- 139967673464576*&#45;&gt;139967673464576 -->\n<g id=\"edge7\" class=\"edge\">\n<title>139967673464576*&#45;&gt;139967673464576</title>\n<path fill=\"none\" stroke=\"black\" d=\"M1519.12,-99.5C1526.67,-99.5 1535.45,-99.5 1544.9,-99.5\"/>\n<polygon fill=\"black\" stroke=\"black\" points=\"1544.95,-103 1554.95,-99.5 1544.95,-96 1544.95,-103\"/>\n</g>\n<!-- 139967673466160 -->\n<g id=\"node20\" class=\"node\">\n<title>139967673466160</title>\n<polygon fill=\"none\" stroke=\"black\" points=\"1199.5,-109.5 1199.5,-145.5 1426.5,-145.5 1426.5,-109.5 1199.5,-109.5\"/>\n<text text-anchor=\"middle\" x=\"1210\" y=\"-123.8\" font-family=\"Times,serif\" font-size=\"14.00\"> </text>\n<polyline fill=\"none\" stroke=\"black\" points=\"1220.5,-109.5 1220.5,-145.5 \"/>\n<text text-anchor=\"middle\" x=\"1271.5\" y=\"-123.8\" font-family=\"Times,serif\" font-size=\"14.00\">data 2.0000</text>\n<polyline fill=\"none\" stroke=\"black\" points=\"1322.5,-109.5 1322.5,-145.5 \"/>\n<text text-anchor=\"middle\" x=\"1374.5\" y=\"-123.8\" font-family=\"Times,serif\" font-size=\"14.00\">grad 0.0000</text>\n</g>\n<!-- 139967673466160&#45;&gt;139967673464576* -->\n<g id=\"edge15\" class=\"edge\">\n<title>139967673466160&#45;&gt;139967673464576*</title>\n<path fill=\"none\" stroke=\"black\" d=\"M1426.6,-109.69C1436.87,-108.06 1446.68,-106.51 1455.4,-105.13\"/>\n<polygon fill=\"black\" stroke=\"black\" points=\"1456.14,-108.56 1465.47,-103.54 1455.04,-101.64 1456.14,-108.56\"/>\n</g>\n<!-- 139967672704832 -->\n<g id=\"node21\" class=\"node\">\n<title>139967672704832</title>\n<polygon fill=\"none\" stroke=\"black\" points=\"803,-27.5 803,-63.5 1035,-63.5 1035,-27.5 803,-27.5\"/>\n<text text-anchor=\"middle\" x=\"816\" y=\"-41.8\" font-family=\"Times,serif\" font-size=\"14.00\">b</text>\n<polyline fill=\"none\" stroke=\"black\" points=\"829,-27.5 829,-63.5 \"/>\n<text text-anchor=\"middle\" x=\"880\" y=\"-41.8\" font-family=\"Times,serif\" font-size=\"14.00\">data 6.8814</text>\n<polyline fill=\"none\" stroke=\"black\" points=\"931,-27.5 931,-63.5 \"/>\n<text text-anchor=\"middle\" x=\"983\" y=\"-41.8\" font-family=\"Times,serif\" font-size=\"14.00\">grad 0.0000</text>\n</g>\n<!-- 139967672704832&#45;&gt;139967673463184+ -->\n<g id=\"edge22\" class=\"edge\">\n<title>139967672704832&#45;&gt;139967673463184+</title>\n<path fill=\"none\" stroke=\"black\" d=\"M1035.23,-60.11C1057.63,-62.95 1079.52,-65.72 1096.88,-67.92\"/>\n<polygon fill=\"black\" stroke=\"black\" points=\"1096.71,-71.43 1107.08,-69.21 1097.59,-64.48 1096.71,-71.43\"/>\n</g>\n<!-- 139967673463184 -->\n<g id=\"node22\" class=\"node\">\n<title>139967673463184</title>\n<polygon fill=\"none\" stroke=\"black\" points=\"1197,-54.5 1197,-90.5 1429,-90.5 1429,-54.5 1197,-54.5\"/>\n<text text-anchor=\"middle\" x=\"1210\" y=\"-68.8\" font-family=\"Times,serif\" font-size=\"14.00\">n</text>\n<polyline fill=\"none\" stroke=\"black\" points=\"1223,-54.5 1223,-90.5 \"/>\n<text text-anchor=\"middle\" x=\"1274\" y=\"-68.8\" font-family=\"Times,serif\" font-size=\"14.00\">data 0.8814</text>\n<polyline fill=\"none\" stroke=\"black\" points=\"1325,-54.5 1325,-90.5 \"/>\n<text text-anchor=\"middle\" x=\"1377\" y=\"-68.8\" font-family=\"Times,serif\" font-size=\"14.00\">grad 0.0000</text>\n</g>\n<!-- 139967673463184&#45;&gt;139967673464576* -->\n<g id=\"edge11\" class=\"edge\">\n<title>139967673463184&#45;&gt;139967673464576*</title>\n<path fill=\"none\" stroke=\"black\" d=\"M1429.09,-90.06C1438.46,-91.49 1447.39,-92.85 1455.4,-94.07\"/>\n<polygon fill=\"black\" stroke=\"black\" points=\"1454.96,-97.54 1465.37,-95.59 1456.01,-90.62 1454.96,-97.54\"/>\n</g>\n<!-- 139967673463184+&#45;&gt;139967673463184 -->\n<g id=\"edge8\" class=\"edge\">\n<title>139967673463184+&#45;&gt;139967673463184</title>\n<path fill=\"none\" stroke=\"black\" d=\"M1161.12,-72.5C1168.53,-72.5 1177.14,-72.5 1186.4,-72.5\"/>\n<polygon fill=\"black\" stroke=\"black\" points=\"1186.69,-76 1196.69,-72.5 1186.69,-69 1186.69,-76\"/>\n</g>\n<!-- 139967672703392 -->\n<g id=\"node24\" class=\"node\">\n<title>139967672703392</title>\n<polygon fill=\"none\" stroke=\"black\" points=\"4.5,-0.5 4.5,-36.5 244.5,-36.5 244.5,-0.5 4.5,-0.5\"/>\n<text text-anchor=\"middle\" x=\"21.5\" y=\"-14.8\" font-family=\"Times,serif\" font-size=\"14.00\">x1</text>\n<polyline fill=\"none\" stroke=\"black\" points=\"38.5,-0.5 38.5,-36.5 \"/>\n<text text-anchor=\"middle\" x=\"89.5\" y=\"-14.8\" font-family=\"Times,serif\" font-size=\"14.00\">data 2.0000</text>\n<polyline fill=\"none\" stroke=\"black\" points=\"140.5,-0.5 140.5,-36.5 \"/>\n<text text-anchor=\"middle\" x=\"192.5\" y=\"-14.8\" font-family=\"Times,serif\" font-size=\"14.00\">grad 0.0000</text>\n</g>\n<!-- 139967672703392&#45;&gt;139967672702384* -->\n<g id=\"edge27\" class=\"edge\">\n<title>139967672703392&#45;&gt;139967672702384*</title>\n<path fill=\"none\" stroke=\"black\" d=\"M218.13,-36.54C228.63,-39.23 239.1,-42.22 249,-45.5 259.71,-49.04 271.05,-53.84 281.07,-58.46\"/>\n<polygon fill=\"black\" stroke=\"black\" points=\"279.67,-61.67 290.2,-62.79 282.67,-55.34 279.67,-61.67\"/>\n</g>\n<!-- 139967672702384 -->\n<g id=\"node25\" class=\"node\">\n<title>139967672702384</title>\n<polygon fill=\"none\" stroke=\"black\" points=\"375,-55.5 375,-91.5 641,-91.5 641,-55.5 375,-55.5\"/>\n<text text-anchor=\"middle\" x=\"402.5\" y=\"-69.8\" font-family=\"Times,serif\" font-size=\"14.00\">x1w1</text>\n<polyline fill=\"none\" stroke=\"black\" points=\"430,-55.5 430,-91.5 \"/>\n<text text-anchor=\"middle\" x=\"483.5\" y=\"-69.8\" font-family=\"Times,serif\" font-size=\"14.00\">data &#45;6.0000</text>\n<polyline fill=\"none\" stroke=\"black\" points=\"537,-55.5 537,-91.5 \"/>\n<text text-anchor=\"middle\" x=\"589\" y=\"-69.8\" font-family=\"Times,serif\" font-size=\"14.00\">grad 0.0000</text>\n</g>\n<!-- 139967672702384&#45;&gt;139967673463424+ -->\n<g id=\"edge25\" class=\"edge\">\n<title>139967672702384&#45;&gt;139967673463424+</title>\n<path fill=\"none\" stroke=\"black\" d=\"M638.4,-91.51C648.78,-92.95 658.6,-94.32 667.3,-95.53\"/>\n<polygon fill=\"black\" stroke=\"black\" points=\"666.94,-99.01 677.32,-96.93 667.9,-92.08 666.94,-99.01\"/>\n</g>\n<!-- 139967672702384*&#45;&gt;139967672702384 -->\n<g id=\"edge9\" class=\"edge\">\n<title>139967672702384*&#45;&gt;139967672702384</title>\n<path fill=\"none\" stroke=\"black\" d=\"M339.16,-73.5C346.61,-73.5 355.28,-73.5 364.68,-73.5\"/>\n<polygon fill=\"black\" stroke=\"black\" points=\"364.73,-77 374.73,-73.5 364.73,-70 364.73,-77\"/>\n</g>\n<!-- 139967672765888 -->\n<g id=\"node27\" class=\"node\">\n<title>139967672765888</title>\n<polygon fill=\"none\" stroke=\"black\" points=\"2792.6,-106.5 2792.6,-142.5 3019.6,-142.5 3019.6,-106.5 2792.6,-106.5\"/>\n<text text-anchor=\"middle\" x=\"2803.1\" y=\"-120.8\" font-family=\"Times,serif\" font-size=\"14.00\"> </text>\n<polyline fill=\"none\" stroke=\"black\" points=\"2813.6,-106.5 2813.6,-142.5 \"/>\n<text text-anchor=\"middle\" x=\"2864.6\" y=\"-120.8\" font-family=\"Times,serif\" font-size=\"14.00\">data 0.1464</text>\n<polyline fill=\"none\" stroke=\"black\" points=\"2915.6,-106.5 2915.6,-142.5 \"/>\n<text text-anchor=\"middle\" x=\"2967.6\" y=\"-120.8\" font-family=\"Times,serif\" font-size=\"14.00\">grad 0.0000</text>\n</g>\n<!-- 139967672765888&#45;&gt;139967672765648* -->\n<g id=\"edge12\" class=\"edge\">\n<title>139967672765888&#45;&gt;139967672765648*</title>\n<path fill=\"none\" stroke=\"black\" d=\"M3020.07,-107.67C3029.37,-106.28 3038.23,-104.96 3046.2,-103.77\"/>\n<polygon fill=\"black\" stroke=\"black\" points=\"3046.73,-107.23 3056.1,-102.3 3045.7,-100.31 3046.73,-107.23\"/>\n</g>\n<!-- 139967672765888^&#45;1&#45;&gt;139967672765888 -->\n<g id=\"edge10\" class=\"edge\">\n<title>139967672765888^&#45;1&#45;&gt;139967672765888</title>\n<path fill=\"none\" stroke=\"black\" d=\"M2670.56,-126.3C2697.19,-126.09 2740.24,-125.76 2782.22,-125.44\"/>\n<polygon fill=\"black\" stroke=\"black\" points=\"2782.32,-128.94 2792.29,-125.36 2782.27,-121.94 2782.32,-128.94\"/>\n</g>\n</g>\n</svg>\n",
      "text/plain": [
       "<graphviz.graphs.Digraph at 0x7f4cc374fd60>"
      ]
     },
     "execution_count": 41,
     "metadata": {},
     "output_type": "execute_result"
    }
   ],
   "source": [
    "# Will change the network above to use exp instead of tanh. For illustrative purposes\n",
    "# Inputs\n",
    "x1 = Value(2.0, label='x1')\n",
    "x2 = Value(0.0, label='x2')\n",
    "\n",
    "# Weights = \"synaptic strength\" of each input\n",
    "w1 = Value(-3.0, label='w1')\n",
    "w2 = Value(1.0, label='w2')\n",
    "\n",
    "# Bias\n",
    "b = Value(6.8813735870195432, label='b') # a strange number in order to facilitate understanding of backprop step\n",
    "\n",
    "# Inputs get multiplied by weights\n",
    "x1w1 = x1 * w1; x1w1.label='x1w1'\n",
    "x2w2 = x2 * w2; x2w2.label='x2w2'\n",
    "x1w1x2w2 = x1w1 + x2w2; x1w1x2w2.label='x1w1x2w2'\n",
    "\n",
    "n = x1w1x2w2 + b; n.label='n'\n",
    "\n",
    "# Tanh but using base exponent version instead\n",
    "e = (2*n).exp()\n",
    "o = (e - 1) / (e + 1)\n",
    "o.label='o'\n",
    "\n",
    "o.backward()\n",
    "draw_dot(o)"
   ]
  },
  {
   "cell_type": "code",
   "execution_count": null,
   "metadata": {},
   "outputs": [],
   "source": [
    "## Gradients not working generally above, but especially for leaf nodes. Karpathy's do. \n",
    "## Forward pass is correct anyway."
   ]
  },
  {
   "attachments": {},
   "cell_type": "markdown",
   "metadata": {},
   "source": [
    "You can use tanh or the atomic elements of exp, addition, subtraction. It doesn't matter so long as you're able to do a forward pass and a backward pass. So as long as you can:\n",
    "* Perform the necessary operations between weights & inputs + children nodes (additions, multiplications, etc.)\n",
    "* Calculate the local gradient (the derivative of a node with respect to its children (or is it parent?) node)\n",
    "* Chain the gradient (calculate the derivative with respect to the loss function??)\n",
    "\n",
    "Then, you can create a neural network."
   ]
  },
  {
   "attachments": {},
   "cell_type": "markdown",
   "metadata": {},
   "source": [
    "#### Pytorch implementation\n",
    "\n",
    "Micrograd is a scalar-value engine. In Pytorch, everything is based around tensors (n-dimensional arrays of scalars).\n",
    "* Casted to be double as python uses double floating point numbers (float64), but Pytorch uses float32 unless casted.\n",
    "* Because they are leaf nodes, by default Pytorch assumes that they do not require gradients - for efficiency reasons. In this case, you have to explicitly tell it you do want the gradients. \n",
    "* data.item() strips the numerical value from the tensor object. \n"
   ]
  },
  {
   "cell_type": "code",
   "execution_count": 2,
   "metadata": {},
   "outputs": [
    {
     "name": "stdout",
     "output_type": "stream",
     "text": [
      "tensor([0.7071], dtype=torch.float64, grad_fn=<TanhBackward0>)\n",
      "0.7071066904050358\n",
      "----------\n",
      "x2 0.5000001283844369\n",
      "w2 0.0\n",
      "x1 -1.5000003851533106\n",
      "w2 1.0000002567688737\n"
     ]
    }
   ],
   "source": [
    "import torch\n",
    "\n",
    "x1 = torch.Tensor([2.0]).double()                ; x1.requires_grad = True\n",
    "x2 = torch.Tensor([0.0]).double()                ; x2.requires_grad = True\n",
    "w1 = torch.Tensor([-3.0]).double()               ; w1.requires_grad = True\n",
    "w2 = torch.Tensor([1.0]).double()                ; w2.requires_grad = True\n",
    "b = torch.Tensor([6.8813735870195432]).double()  ; b.requires_grad = True\n",
    "\n",
    "n = x1*w1 + x2*w2 + b\n",
    "o = torch.tanh(n)\n",
    "\n",
    "print(o)\n",
    "print(o.data.item())\n",
    "o.backward()\n",
    "\n",
    "print('----------')\n",
    "print('x2', x2.grad.item())\n",
    "print('w2', w2.grad.item())\n",
    "print('x1', x1.grad.item())\n",
    "print('w2', w1.grad.item())"
   ]
  }
 ],
 "metadata": {
  "kernelspec": {
   "display_name": "karpathy",
   "language": "python",
   "name": "python3"
  },
  "language_info": {
   "codemirror_mode": {
    "name": "ipython",
    "version": 3
   },
   "file_extension": ".py",
   "mimetype": "text/x-python",
   "name": "python",
   "nbconvert_exporter": "python",
   "pygments_lexer": "ipython3",
   "version": "3.9.19"
  },
  "orig_nbformat": 4,
  "vscode": {
   "interpreter": {
    "hash": "f347913e2b6fb5a69d1963ee938378d9a2045c59bfe2881ab986562c299cd819"
   }
  }
 },
 "nbformat": 4,
 "nbformat_minor": 2
}
